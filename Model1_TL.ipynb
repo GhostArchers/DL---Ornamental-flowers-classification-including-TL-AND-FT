{
  "nbformat": 4,
  "nbformat_minor": 0,
  "metadata": {
    "colab": {
      "provenance": [],
      "gpuType": "L4",
      "machine_shape": "hm"
    },
    "kernelspec": {
      "name": "python3",
      "display_name": "Python 3"
    },
    "language_info": {
      "name": "python"
    },
    "accelerator": "GPU"
  },
  "cells": [
    {
      "cell_type": "markdown",
      "source": [
        "\n",
        "\n",
        "*   NAME: GOUTHAM R\n",
        "*   SCHOOL: CDS\n",
        "*   EMAIL: goutham.r-26@scds.saiuniversity.edu.in\n",
        "\n",
        "\n",
        "\n"
      ],
      "metadata": {
        "id": "j8VLlgpF433x"
      }
    },
    {
      "cell_type": "code",
      "execution_count": null,
      "metadata": {
        "id": "HqEZ-ou4ixr6"
      },
      "outputs": [],
      "source": [
        "import tensorflow as tf\n",
        "from tensorflow.keras.applications import InceptionResNetV2\n",
        "from tensorflow.keras.models import Model\n",
        "from tensorflow.keras.layers import Dense, Dropout, BatchNormalization, GlobalAveragePooling2D\n",
        "from tensorflow.keras.callbacks import ModelCheckpoint, EarlyStopping, LearningRateScheduler\n",
        "from tensorflow.keras.preprocessing import image_dataset_from_directory\n",
        "\n",
        "from sklearn.preprocessing import LabelEncoder\n",
        "from sklearn.model_selection import train_test_split\n",
        "from sklearn.metrics import confusion_matrix\n",
        "from sklearn.metrics import precision_score, recall_score, f1_score\n",
        "\n",
        "import numpy as np\n",
        "import matplotlib.pyplot as plt\n",
        "from collections import Counter\n",
        "\n",
        "import os\n",
        "import glob\n",
        "import PIL\n",
        "from PIL import Image\n",
        "\n",
        "# Set random seeds for reproducibility\n",
        "tf.random.set_seed(42)\n",
        "np.random.seed(42)\n"
      ]
    },
    {
      "cell_type": "code",
      "source": [
        "from google.colab import drive\n",
        "drive.mount('/content/drive')"
      ],
      "metadata": {
        "colab": {
          "base_uri": "https://localhost:8080/"
        },
        "id": "t4XS-yFE1Rnj",
        "outputId": "9d34d50f-2d89-4a76-f390-5fd4db98a5aa"
      },
      "execution_count": null,
      "outputs": [
        {
          "output_type": "stream",
          "name": "stdout",
          "text": [
            "Mounted at /content/drive\n"
          ]
        }
      ]
    },
    {
      "cell_type": "code",
      "source": [
        "\n",
        "# Dataset Path\n",
        "dataset_path = \"/content/drive/MyDrive/Ornamental_Plants\""
      ],
      "metadata": {
        "id": "ge89ylI6TJCO"
      },
      "execution_count": null,
      "outputs": []
    },
    {
      "cell_type": "code",
      "source": [
        "# Load and Preprocess Dataset\n",
        "img_size = (299, 299)  # Resizing as per the requirements of InceptionResNetV2\n",
        "X = []\n",
        "y = []\n",
        "\n",
        "#Using glob and os to load images and read directories\n",
        "for class_folder in os.listdir(dataset_path):\n",
        "    class_path = os.path.join(dataset_path, class_folder)\n",
        "    if os.path.isdir(class_path):  #\n",
        "        for img_file in glob.glob(os.path.join(class_path, \"*.jpg\")) + glob.glob(os.path.join(class_path, \"*.jpeg\")):\n",
        "            img = Image.open(img_file).resize(img_size)  #\n",
        "            img = np.array(img) / 255.0  # Normalising the pixel values to [0, 1]\n",
        "            X.append(img)\n",
        "            y.append(class_folder)\n",
        "\n",
        "# Converting into numpy arrays\n",
        "X = np.array(X)\n",
        "y = np.array(y)\n",
        "\n",
        "#label encoding\n",
        "label_encoder = LabelEncoder()\n",
        "y = label_encoder.fit_transform(y)\n",
        "\n",
        "# Display class names and the number of flowers in each class\n",
        "class_names = label_encoder.classes_\n",
        "print(\"Class Names and Counts:\")\n",
        "for class_name in class_names:\n",
        "    print(f\"{class_name}: {np.sum(y == label_encoder.transform([class_name])[0])}\")\n",
        "print(f\"Total images: {len(X)}\")\n",
        "\n"
      ],
      "metadata": {
        "id": "FeyVLgPgrkvf",
        "colab": {
          "base_uri": "https://localhost:8080/"
        },
        "outputId": "3e50a412-40ad-4dad-8d39-e6414c0d53a8"
      },
      "execution_count": null,
      "outputs": [
        {
          "output_type": "stream",
          "name": "stdout",
          "text": [
            "Class Names and Counts:\n",
            "Damask Rose: 500\n",
            "Echeveria Flower: 500\n",
            "Mirabilis Jalapa: 500\n",
            "Rain Lily: 498\n",
            "Zinnia Elegans: 400\n",
            "Total images: 2398\n"
          ]
        }
      ]
    },
    {
      "cell_type": "code",
      "source": [
        "#75 percent train-test-split\n",
        "X_train, X_test, y_train, y_test = train_test_split(X, y, test_size=0.25, stratify=y, random_state=42)"
      ],
      "metadata": {
        "id": "nqpZ4WxNTrXT"
      },
      "execution_count": null,
      "outputs": []
    },
    {
      "cell_type": "code",
      "source": [
        "#No of training and testing images\n",
        "print(\"Dataset Split:\")\n",
        "print(f\"Total images: {len(X)}\")\n",
        "print(f\"Training images: {len(X_train)}\")\n",
        "print(f\"Testing images: {len(X_test)}\")"
      ],
      "metadata": {
        "colab": {
          "base_uri": "https://localhost:8080/"
        },
        "id": "R5T0KzI2IXxn",
        "outputId": "be2043f1-6bb4-487d-a28c-ea0e94294a19"
      },
      "execution_count": null,
      "outputs": [
        {
          "output_type": "stream",
          "name": "stdout",
          "text": [
            "Dataset Split:\n",
            "Total images: 2398\n",
            "Training images: 1798\n",
            "Testing images: 600\n"
          ]
        }
      ]
    },
    {
      "cell_type": "code",
      "source": [
        "# Standardizing X_train and X_test\n",
        "\n",
        "mu = X_train.mean()\n",
        "std = X_train.std()\n",
        "\n",
        "X_train_std = (X_train-mu)/std\n",
        "X_test_std = (X_test-mu)/std"
      ],
      "metadata": {
        "id": "_PNJF4pGUJE3"
      },
      "execution_count": null,
      "outputs": []
    },
    {
      "cell_type": "code",
      "source": [
        "\n",
        "print(f\"X_train shape: {X_train.shape}\")\n",
        "print(f\"X_test shape: {X_test.shape}\")\n",
        "print(f\"Classes: {class_names}\")"
      ],
      "metadata": {
        "id": "Yya0zcJuUJOk",
        "colab": {
          "base_uri": "https://localhost:8080/"
        },
        "outputId": "a1ee168c-fbf2-45c6-a735-9bdf3c29397a"
      },
      "execution_count": null,
      "outputs": [
        {
          "output_type": "stream",
          "name": "stdout",
          "text": [
            "X_train shape: (1798, 299, 299, 3)\n",
            "X_test shape: (600, 299, 299, 3)\n",
            "Classes: ['Damask Rose' 'Echeveria Flower' 'Mirabilis Jalapa' 'Rain Lily'\n",
            " 'Zinnia Elegans']\n"
          ]
        }
      ]
    },
    {
      "cell_type": "code",
      "source": [
        "\n",
        "#Pretrained Model load\n",
        "base_model = InceptionResNetV2(weights='imagenet', include_top=False, input_shape=(299, 299, 3))\n",
        "base_model.trainable = False  # Freeze base model layers\n",
        "\n",
        "#BN and dropout layer with 25 percent dropout\n",
        "x = base_model.output\n",
        "x = GlobalAveragePooling2D()(x)\n",
        "x = BatchNormalization()(x)\n",
        "x = Dropout(0.25)(x)\n",
        "output = Dense(len(class_names), activation='softmax')(x)\n",
        "\n",
        "model = Model(inputs=base_model.input, outputs=output)"
      ],
      "metadata": {
        "id": "0PZLPOw8kLbw",
        "colab": {
          "base_uri": "https://localhost:8080/"
        },
        "outputId": "2176b2b0-6d80-4566-a7a9-143ae9d9ca30"
      },
      "execution_count": null,
      "outputs": [
        {
          "output_type": "stream",
          "name": "stdout",
          "text": [
            "Downloading data from https://storage.googleapis.com/tensorflow/keras-applications/inception_resnet_v2/inception_resnet_v2_weights_tf_dim_ordering_tf_kernels_notop.h5\n",
            "\u001b[1m219055592/219055592\u001b[0m \u001b[32m━━━━━━━━━━━━━━━━━━━━\u001b[0m\u001b[37m\u001b[0m \u001b[1m1s\u001b[0m 0us/step\n"
          ]
        }
      ]
    },
    {
      "cell_type": "code",
      "source": [
        "# Compile the model\n",
        "model.compile(\n",
        "    optimizer=tf.keras.optimizers.Adam(),\n",
        "    loss='sparse_categorical_crossentropy',\n",
        "    metrics=['accuracy']\n",
        ")"
      ],
      "metadata": {
        "id": "D72urwoGXTMH"
      },
      "execution_count": null,
      "outputs": []
    },
    {
      "cell_type": "code",
      "source": [
        "# Callbacks\n",
        "callbacks1_TL = [\n",
        "    tf.keras.callbacks.ModelCheckpoint(\n",
        "        \"bestTL1.weights.h5\",\n",
        "        monitor='val_accuracy',\n",
        "        save_weights_only=True,\n",
        "        save_best_only=True\n",
        "    )\n",
        "]\n"
      ],
      "metadata": {
        "id": "xXyf6m6kXTPQ"
      },
      "execution_count": null,
      "outputs": []
    },
    {
      "cell_type": "code",
      "source": [
        "# Train the model\n",
        "history = model.fit(\n",
        "    x=X_train,\n",
        "    y=y_train,\n",
        "    validation_split=0.1,\n",
        "    epochs=10,\n",
        "    batch_size=16,\n",
        "    callbacks=callbacks1_TL\n",
        ")\n"
      ],
      "metadata": {
        "id": "22jj3joTXTSM",
        "colab": {
          "base_uri": "https://localhost:8080/"
        },
        "outputId": "8baf6843-8828-47a5-b7c8-aa1d38650213"
      },
      "execution_count": null,
      "outputs": [
        {
          "output_type": "stream",
          "name": "stdout",
          "text": [
            "Epoch 1/10\n",
            "\u001b[1m102/102\u001b[0m \u001b[32m━━━━━━━━━━━━━━━━━━━━\u001b[0m\u001b[37m\u001b[0m \u001b[1m63s\u001b[0m 335ms/step - accuracy: 0.7877 - loss: 0.6688 - val_accuracy: 0.9833 - val_loss: 0.1749\n",
            "Epoch 2/10\n",
            "\u001b[1m102/102\u001b[0m \u001b[32m━━━━━━━━━━━━━━━━━━━━\u001b[0m\u001b[37m\u001b[0m \u001b[1m8s\u001b[0m 73ms/step - accuracy: 0.9981 - loss: 0.0209 - val_accuracy: 1.0000 - val_loss: 0.0371\n",
            "Epoch 3/10\n",
            "\u001b[1m102/102\u001b[0m \u001b[32m━━━━━━━━━━━━━━━━━━━━\u001b[0m\u001b[37m\u001b[0m \u001b[1m6s\u001b[0m 60ms/step - accuracy: 0.9969 - loss: 0.0137 - val_accuracy: 1.0000 - val_loss: 0.0103\n",
            "Epoch 4/10\n",
            "\u001b[1m102/102\u001b[0m \u001b[32m━━━━━━━━━━━━━━━━━━━━\u001b[0m\u001b[37m\u001b[0m \u001b[1m6s\u001b[0m 60ms/step - accuracy: 0.9997 - loss: 0.0058 - val_accuracy: 1.0000 - val_loss: 0.0031\n",
            "Epoch 5/10\n",
            "\u001b[1m102/102\u001b[0m \u001b[32m━━━━━━━━━━━━━━━━━━━━\u001b[0m\u001b[37m\u001b[0m \u001b[1m6s\u001b[0m 61ms/step - accuracy: 1.0000 - loss: 0.0051 - val_accuracy: 1.0000 - val_loss: 0.0014\n",
            "Epoch 6/10\n",
            "\u001b[1m102/102\u001b[0m \u001b[32m━━━━━━━━━━━━━━━━━━━━\u001b[0m\u001b[37m\u001b[0m \u001b[1m6s\u001b[0m 61ms/step - accuracy: 1.0000 - loss: 0.0036 - val_accuracy: 1.0000 - val_loss: 7.6060e-04\n",
            "Epoch 7/10\n",
            "\u001b[1m102/102\u001b[0m \u001b[32m━━━━━━━━━━━━━━━━━━━━\u001b[0m\u001b[37m\u001b[0m \u001b[1m6s\u001b[0m 61ms/step - accuracy: 1.0000 - loss: 0.0022 - val_accuracy: 1.0000 - val_loss: 6.8517e-04\n",
            "Epoch 8/10\n",
            "\u001b[1m102/102\u001b[0m \u001b[32m━━━━━━━━━━━━━━━━━━━━\u001b[0m\u001b[37m\u001b[0m \u001b[1m6s\u001b[0m 61ms/step - accuracy: 1.0000 - loss: 0.0022 - val_accuracy: 1.0000 - val_loss: 3.7748e-04\n",
            "Epoch 9/10\n",
            "\u001b[1m102/102\u001b[0m \u001b[32m━━━━━━━━━━━━━━━━━━━━\u001b[0m\u001b[37m\u001b[0m \u001b[1m6s\u001b[0m 61ms/step - accuracy: 1.0000 - loss: 0.0015 - val_accuracy: 1.0000 - val_loss: 3.3904e-04\n",
            "Epoch 10/10\n",
            "\u001b[1m102/102\u001b[0m \u001b[32m━━━━━━━━━━━━━━━━━━━━\u001b[0m\u001b[37m\u001b[0m \u001b[1m6s\u001b[0m 61ms/step - accuracy: 1.0000 - loss: 0.0011 - val_accuracy: 1.0000 - val_loss: 3.0981e-04\n"
          ]
        }
      ]
    },
    {
      "cell_type": "code",
      "source": [],
      "metadata": {
        "id": "IXoB-MpcYQkT"
      },
      "execution_count": null,
      "outputs": []
    },
    {
      "cell_type": "code",
      "source": [
        "#training and val graph\n",
        "keys = ['accuracy', 'val_accuracy']\n",
        "progress = {k:v for k,v in history.history.items() if k in keys}\n",
        "\n",
        "import pandas as pd\n",
        "pd.DataFrame(progress).plot()\n",
        "\n",
        "plt.xlabel(\"epochs\")\n",
        "plt.ylabel(\"accuracy\")\n",
        "\n",
        "plt.grid(True)\n",
        "plt.show()"
      ],
      "metadata": {
        "id": "glhzYOGmYQnN",
        "colab": {
          "base_uri": "https://localhost:8080/",
          "height": 449
        },
        "outputId": "ce1d1e9a-7e98-4a8e-b3cf-16d83ae2ff3f"
      },
      "execution_count": null,
      "outputs": [
        {
          "output_type": "display_data",
          "data": {
            "text/plain": [
              "<Figure size 640x480 with 1 Axes>"
            ],
            "image/png": "[encoded data removed]"
          },
          "metadata": {}
        }
      ]
    },
    {
      "cell_type": "code",
      "source": [
        "#model evaluation\n",
        "testLoss_TL, testAccuracy_TL = model.evaluate(x = X_test_std, y = y_test)\n",
        "print(\"Test-loss: %f, Test-accuracy: %f\" % (testLoss_TL, testAccuracy_TL))"
      ],
      "metadata": {
        "id": "4qrh2O2WaEpf",
        "colab": {
          "base_uri": "https://localhost:8080/"
        },
        "outputId": "1038b8b3-4882-431f-a799-d5eba1bf8997"
      },
      "execution_count": null,
      "outputs": [
        {
          "output_type": "stream",
          "name": "stdout",
          "text": [
            "\u001b[1m19/19\u001b[0m \u001b[32m━━━━━━━━━━━━━━━━━━━━\u001b[0m\u001b[37m\u001b[0m \u001b[1m24s\u001b[0m 683ms/step - accuracy: 0.9956 - loss: 0.0203\n",
            "Test-loss: 0.022503, Test-accuracy: 0.995000\n"
          ]
        }
      ]
    },
    {
      "cell_type": "code",
      "source": [
        "#loading the best weights\n",
        "model.load_weights(\"bestTL1.weights.h5\")\n",
        "\n",
        "testLoss_TL, testAccuracy_TL = model.evaluate(x=X_test, y=y_test)\n",
        "\n",
        "print(\"Test-loss: %f, Test-accuracy: %f\" % (testLoss_TL, testAccuracy_TL))"
      ],
      "metadata": {
        "id": "XTJnXaU_aEsV",
        "colab": {
          "base_uri": "https://localhost:8080/"
        },
        "outputId": "a0ed5b52-cd9a-4c60-8d18-9ef57888c491"
      },
      "execution_count": null,
      "outputs": [
        {
          "output_type": "stream",
          "name": "stdout",
          "text": [
            "\u001b[1m19/19\u001b[0m \u001b[32m━━━━━━━━━━━━━━━━━━━━\u001b[0m\u001b[37m\u001b[0m \u001b[1m2s\u001b[0m 110ms/step - accuracy: 1.0000 - loss: 0.0293\n",
            "Test-loss: 0.027381, Test-accuracy: 1.000000\n"
          ]
        }
      ]
    },
    {
      "cell_type": "code",
      "source": [
        "y_proba = model.predict(X_test_std)\n",
        "y_predict = np.argmax(y_proba, axis=-1)\n",
        "print(y_predict)"
      ],
      "metadata": {
        "id": "sjIhTwy9djyq",
        "colab": {
          "base_uri": "https://localhost:8080/"
        },
        "outputId": "0e632d3a-2207-4452-956c-32f2fe37e109"
      },
      "execution_count": null,
      "outputs": [
        {
          "output_type": "stream",
          "name": "stdout",
          "text": [
            "\u001b[1m19/19\u001b[0m \u001b[32m━━━━━━━━━━━━━━━━━━━━\u001b[0m\u001b[37m\u001b[0m \u001b[1m21s\u001b[0m 609ms/step\n",
            "[1 2 1 2 3 3 3 1 0 1 0 1 3 4 1 2 2 3 1 4 3 4 1 4 1 2 2 3 0 2 1 1 3 1 1 4 3\n",
            " 1 0 0 4 0 4 4 2 4 2 1 4 3 4 1 0 4 2 0 4 1 2 0 1 2 4 3 0 0 3 2 4 2 0 3 2 2\n",
            " 4 3 1 2 4 0 1 2 3 1 0 0 2 1 4 3 0 0 0 1 3 3 0 3 4 1 2 4 0 0 4 1 3 1 4 2 1\n",
            " 3 1 2 2 1 2 4 2 1 2 2 4 2 3 0 4 0 2 2 3 0 4 0 2 1 3 0 0 2 3 2 0 2 2 2 1 3\n",
            " 3 0 3 1 3 3 3 0 0 2 2 3 0 1 2 0 3 3 0 3 4 1 1 2 0 3 2 4 2 4 3 2 3 4 2 3 4\n",
            " 1 4 2 4 0 1 1 1 1 1 1 1 4 4 0 0 4 1 4 0 2 0 4 2 1 4 2 3 4 1 4 3 3 3 4 0 4\n",
            " 4 0 2 0 0 3 1 3 2 1 3 1 2 2 4 1 1 4 3 4 3 0 2 0 4 3 2 3 0 2 1 3 3 2 1 4 3\n",
            " 0 0 0 0 3 2 0 2 1 0 1 4 1 2 2 3 3 4 2 0 3 1 2 4 0 1 0 1 4 4 2 1 2 3 2 1 1\n",
            " 1 1 3 2 3 0 2 2 2 0 2 3 1 0 3 3 1 0 3 0 3 3 3 0 2 1 4 2 1 0 2 1 0 3 4 2 4\n",
            " 0 3 2 0 3 0 4 1 2 3 0 1 2 3 2 4 1 0 4 0 4 4 0 4 1 1 3 4 2 2 3 3 0 1 2 3 1\n",
            " 2 1 1 0 3 2 2 1 3 1 4 2 0 0 1 3 1 3 3 1 1 2 0 0 2 4 2 2 3 2 2 3 4 4 1 4 3\n",
            " 4 3 3 0 4 2 4 4 1 2 0 2 4 3 4 1 1 2 3 2 2 3 3 2 3 3 0 1 0 3 1 4 3 2 3 3 1\n",
            " 4 1 0 4 4 0 1 2 2 0 2 3 0 1 1 1 3 3 0 4 1 4 3 2 0 0 2 0 3 1 0 1 3 0 2 1 2\n",
            " 2 2 0 3 1 4 2 4 3 3 0 1 0 3 1 0 4 2 4 4 0 3 3 3 1 1 0 4 2 0 2 0 0 0 0 4 0\n",
            " 3 1 4 2 1 0 0 0 3 3 1 1 3 2 1 4 4 0 3 4 1 3 4 0 0 3 3 1 4 3 2 2 3 1 2 1 2\n",
            " 2 0 3 3 0 2 3 1 4 0 3 0 1 1 0 1 0 4 2 4 1 2 2 2 1 0 3 3 2 4 1 3 3 0 1 3 0\n",
            " 0 1 0 3 0 4 1 0]\n"
          ]
        }
      ]
    },
    {
      "cell_type": "code",
      "source": [
        "#generating confusion matrix\n",
        "\n",
        "cm = confusion_matrix(y_true = y_test, y_pred = y_predict)\n",
        "\n",
        "fig, ax = plt.subplots(figsize=(6, 6))\n",
        "ax.matshow(cm, cmap=plt.cm.Blues, alpha=0.3)\n",
        "\n",
        "for i in range(cm.shape[0]):\n",
        "    for j in range(cm.shape[1]):\n",
        "        ax.text(x=j, y=i, s=cm[i, j], va='center', ha='center')\n",
        "\n",
        "ax.title.set_text('CNN\\n')\n",
        "plt.xlabel('Predicted label')\n",
        "plt.ylabel('True label')\n",
        "\n",
        "plt.tight_layout()\n",
        "plt.savefig(\"ConfusionMatrix.png\", dpi=300, format='png', pad_inches=0.3)\n",
        "plt.show()\n",
        "\n",
        "print(set(y))\n",
        "print(label_encoder.classes_)\n"
      ],
      "metadata": {
        "id": "m4WoIZf3eIE-",
        "colab": {
          "base_uri": "https://localhost:8080/",
          "height": 662
        },
        "outputId": "75596c5a-e343-4967-c254-822b497c5100"
      },
      "execution_count": null,
      "outputs": [
        {
          "output_type": "display_data",
          "data": {
            "text/plain": [
              "<Figure size 600x600 with 1 Axes>"
            ],
            "image/png": "[encoded data removed]"
          },
          "metadata": {}
        },
        {
          "output_type": "stream",
          "name": "stdout",
          "text": [
            "{0, 1, 2, 3, 4}\n",
            "['Damask Rose' 'Echeveria Flower' 'Mirabilis Jalapa' 'Rain Lily'\n",
            " 'Zinnia Elegans']\n"
          ]
        }
      ]
    },
    {
      "cell_type": "code",
      "source": [
        "#precision, recall and f1-score\n",
        "\n",
        "pScore = precision_score(y_true= y_test, y_pred = y_predict, average = 'weighted')\n",
        "print(\"Precision: \", pScore)\n",
        "\n",
        "rScore = recall_score(y_true= y_test, y_pred = y_predict, average = 'weighted')\n",
        "print(\"Recall: \", rScore)\n",
        "\n",
        "fScore = f1_score(y_true= y_test, y_pred = y_predict, average = 'weighted')\n",
        "print(\"F1-score: \", fScore)\n",
        "\n",
        "print(\"\\n\\n\\n\")"
      ],
      "metadata": {
        "id": "yWEmK4EQdj1m",
        "colab": {
          "base_uri": "https://localhost:8080/"
        },
        "outputId": "026a7a86-926e-41df-c1d5-cedfb7a598da"
      },
      "execution_count": null,
      "outputs": [
        {
          "output_type": "stream",
          "name": "stdout",
          "text": [
            "Precision:  0.9918733850129199\n",
            "Recall:  0.9916666666666667\n",
            "F1-score:  0.9916846081278271\n",
            "\n",
            "\n",
            "\n",
            "\n"
          ]
        }
      ]
    },
    {
      "cell_type": "code",
      "source": [
        "# Saves the best model in the `.keras` format\n",
        "model.save('/content/drive/MyDrive/model 1/tl1.keras')\n"
      ],
      "metadata": {
        "id": "TLcfPVcQXTVP"
      },
      "execution_count": null,
      "outputs": []
    },
    {
      "cell_type": "code",
      "source": [
        "#saving the model weights\n",
        "from numpy import save\n",
        "\n",
        "save('/content/drive/MyDrive/model 1/X_train_std.npy', X_train_std)\n",
        "save('/content/drive/MyDrive/model 1/X_test_std.npy', X_test_std)\n",
        "\n",
        "save('/content/drive/MyDrive/model 1/y_train.npy', y_train)\n",
        "save('/content/drive/MyDrive/model 1/y_test.npy', y_test)"
      ],
      "metadata": {
        "id": "SWFR7NOjfEEC"
      },
      "execution_count": null,
      "outputs": []
    },
    {
      "cell_type": "code",
      "source": [],
      "metadata": {
        "id": "DCV4ik9ufEGs"
      },
      "execution_count": null,
      "outputs": []
    },
    {
      "cell_type": "code",
      "source": [],
      "metadata": {
        "id": "EMCcu9dTfEJv"
      },
      "execution_count": null,
      "outputs": []
    }
  ]
}