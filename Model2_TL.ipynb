{
  "nbformat": 4,
  "nbformat_minor": 0,
  "metadata": {
    "colab": {
      "provenance": [],
      "machine_shape": "hm",
      "gpuType": "L4"
    },
    "kernelspec": {
      "name": "python3",
      "display_name": "Python 3"
    },
    "language_info": {
      "name": "python"
    },
    "accelerator": "GPU"
  },
  "cells": [
    {
      "cell_type": "markdown",
      "source": [
        "\n",
        "\n",
        "*   NAME: GOUTHAM R\n",
        "*   SCHOOL: CDS\n",
        "*   MAIL ID: goutham.r-26@scds.saiuniversity.edu.in\n",
        "\n",
        "\n",
        "\n",
        "\n"
      ],
      "metadata": {
        "id": "CdamKBt3F0jH"
      }
    },
    {
      "cell_type": "code",
      "execution_count": null,
      "metadata": {
        "id": "QuIlx9EgS4wE"
      },
      "outputs": [],
      "source": [
        "import tensorflow as tf\n",
        "from tensorflow.keras.applications import EfficientNetV2B0\n",
        "from tensorflow.keras.models import Model\n",
        "from tensorflow.keras.layers import Dense, Dropout, BatchNormalization, GlobalAveragePooling2D\n",
        "from tensorflow.keras.callbacks import ModelCheckpoint, EarlyStopping, LearningRateScheduler\n",
        "from tensorflow.keras.preprocessing import image_dataset_from_directory\n",
        "from tensorflow.keras import layers, Model\n",
        "import keras\n",
        "from sklearn.preprocessing import LabelEncoder\n",
        "from sklearn.model_selection import train_test_split\n",
        "from sklearn.metrics import confusion_matrix\n",
        "from sklearn.metrics import precision_score, recall_score, f1_score\n",
        "\n",
        "\n",
        "import numpy as np\n",
        "import matplotlib.pyplot as plt\n",
        "from collections import Counter\n",
        "\n",
        "import os\n",
        "import glob\n",
        "import PIL\n",
        "from PIL import Image\n",
        "\n",
        "# Set random seeds for reproducibility\n",
        "tf.random.set_seed(42)\n",
        "np.random.seed(42)\n"
      ]
    },
    {
      "cell_type": "code",
      "source": [
        "from google.colab import drive\n",
        "drive.mount('/content/drive')"
      ],
      "metadata": {
        "id": "lz5Avux6UR4p",
        "colab": {
          "base_uri": "https://localhost:8080/"
        },
        "outputId": "f0fca273-1ea3-4d3f-8cba-cb3f96113357"
      },
      "execution_count": null,
      "outputs": [
        {
          "output_type": "stream",
          "name": "stdout",
          "text": [
            "Mounted at /content/drive\n"
          ]
        }
      ]
    },
    {
      "cell_type": "code",
      "source": [
        "\n",
        "# Dataset Path\n",
        "dataset_path = \"/content/drive/MyDrive/Ornamental_Plants\""
      ],
      "metadata": {
        "id": "O_WKjQFIUT8v"
      },
      "execution_count": null,
      "outputs": []
    },
    {
      "cell_type": "code",
      "source": [
        "# Load and Preprocess Dataset\n",
        "img_size = (224, 224)  # Resizing to match Efficientnetv2Bo\n",
        "X = []\n",
        "y = []\n",
        "\n",
        "# Use glob to load images from each folder and os to handle directories\n",
        "for class_folder in os.listdir(dataset_path):\n",
        "    class_path = os.path.join(dataset_path, class_folder)\n",
        "    if os.path.isdir(class_path):  #\n",
        "        for img_file in glob.glob(os.path.join(class_path, \"*.jpg\")) + glob.glob(os.path.join(class_path, \"*.jpeg\")):\n",
        "            img = Image.open(img_file).resize(img_size)\n",
        "            img = np.array(img) / 255.0  # Normalize pixel values to [0, 1]\n",
        "            X.append(img)\n",
        "            y.append(class_folder)\n",
        "\n",
        "# Converting it into numpy arrays\n",
        "X = np.array(X)\n",
        "y = np.array(y)\n",
        "\n",
        "# label encoding\n",
        "label_encoder = LabelEncoder()\n",
        "y = label_encoder.fit_transform(y)\n",
        "\n",
        "# Display class names and the number of flowers in each class\n",
        "class_names = label_encoder.classes_\n",
        "print(\"Class Names and Counts:\")\n",
        "for class_name in class_names:\n",
        "    print(f\"{class_name}: {np.sum(y == label_encoder.transform([class_name])[0])}\")\n",
        "print(f\"Total images: {len(X)}\")\n",
        "\n"
      ],
      "metadata": {
        "id": "NItnpGoQUVf9",
        "colab": {
          "base_uri": "https://localhost:8080/"
        },
        "outputId": "51d840cc-9d62-41da-9aad-d3aa9ee7d134"
      },
      "execution_count": null,
      "outputs": [
        {
          "output_type": "stream",
          "name": "stdout",
          "text": [
            "Class Names and Counts:\n",
            "Damask Rose: 500\n",
            "Echeveria Flower: 500\n",
            "Mirabilis Jalapa: 500\n",
            "Rain Lily: 498\n",
            "Zinnia Elegans: 400\n",
            "Total images: 2398\n"
          ]
        }
      ]
    },
    {
      "cell_type": "code",
      "source": [],
      "metadata": {
        "id": "b2nCvIfkWBlR"
      },
      "execution_count": null,
      "outputs": []
    },
    {
      "cell_type": "code",
      "source": [
        "#25-75 train test split\n",
        "from sklearn.model_selection import train_test_split\n",
        "\n",
        "X_train, X_test, y_train, y_test = train_test_split(X, y, test_size=0.25,\n",
        "                                                    stratify=y, random_state=42)\n",
        "\n",
        "print(\"X_train_shape: {}\".format(X_train.shape))\n",
        "print(\"X_test_shape: {}\".format(X_test.shape))"
      ],
      "metadata": {
        "id": "UKeaf4-AVHfF",
        "colab": {
          "base_uri": "https://localhost:8080/"
        },
        "outputId": "c318a9df-c498-4b66-83b8-30e40bb1e3f6"
      },
      "execution_count": null,
      "outputs": [
        {
          "output_type": "stream",
          "name": "stdout",
          "text": [
            "X_train_shape: (1798, 224, 224, 3)\n",
            "X_test_shape: (600, 224, 224, 3)\n"
          ]
        }
      ]
    },
    {
      "cell_type": "code",
      "source": [
        "#No of training and testing images\n",
        "print(\"Dataset Split:\")\n",
        "print(f\"Total images: {len(X)}\")\n",
        "print(f\"Training images: {len(X_train)}\")\n",
        "print(f\"Testing images: {len(X_test)}\")"
      ],
      "metadata": {
        "colab": {
          "base_uri": "https://localhost:8080/"
        },
        "id": "yA5tsCLaJYq9",
        "outputId": "41ba9a9e-89b3-48f3-e0a4-3ebdd136b27b"
      },
      "execution_count": null,
      "outputs": [
        {
          "output_type": "stream",
          "name": "stdout",
          "text": [
            "Dataset Split:\n",
            "Total images: 2398\n",
            "Training images: 1798\n",
            "Testing images: 600\n"
          ]
        }
      ]
    },
    {
      "cell_type": "code",
      "source": [
        "mu = X_train.mean()\n",
        "std = X_train.std()\n",
        "\n",
        "X_train_std = (X_train-mu)/std\n",
        "X_test_std = (X_test-mu)/std"
      ],
      "metadata": {
        "id": "k23bqLVpVKT9"
      },
      "execution_count": null,
      "outputs": []
    },
    {
      "cell_type": "code",
      "source": [
        "# Loading EfficientNetV2B0 as the base model without the top classification head\n",
        "base_model = EfficientNetV2B0(\n",
        "    include_top=False,\n",
        "    weights=\"imagenet\",\n",
        "    input_shape=(224, 224, 3),\n",
        "    include_preprocessing=True,\n",
        ")\n",
        "\n",
        "base_model.trainable = False\n",
        "\n",
        "# Custom layer\n",
        "x = base_model.output\n",
        "x = layers.GlobalAveragePooling2D()(x)\n",
        "x = layers.BatchNormalization()(x)\n",
        "x = layers.Dropout(0.35)(x)\n",
        "x = layers.Dense(256, activation='relu')(x)\n",
        "x = layers.BatchNormalization()(x)\n",
        "x = layers.Dropout(0.35)(x)\n",
        "output = layers.Dense(5, activation='softmax')(x)\n",
        "\n",
        "# Building the model\n",
        "model = Model(inputs=base_model.input, outputs=output)"
      ],
      "metadata": {
        "id": "lLtXXjegWCAF",
        "colab": {
          "base_uri": "https://localhost:8080/"
        },
        "outputId": "bc5d6b02-1769-4517-e2d3-9775754e493c"
      },
      "execution_count": null,
      "outputs": [
        {
          "output_type": "stream",
          "name": "stdout",
          "text": [
            "Downloading data from https://storage.googleapis.com/tensorflow/keras-applications/efficientnet_v2/efficientnetv2-b0_notop.h5\n",
            "\u001b[1m24274472/24274472\u001b[0m \u001b[32m━━━━━━━━━━━━━━━━━━━━\u001b[0m\u001b[37m\u001b[0m \u001b[1m2s\u001b[0m 0us/step\n"
          ]
        }
      ]
    },
    {
      "cell_type": "code",
      "source": [
        "#Model training\n",
        "model.compile(loss='sparse_categorical_crossentropy',\n",
        "                 optimizer='adam',\n",
        "                 metrics=['accuracy'])\n",
        "\n",
        "callbacks_TL = [\n",
        "    keras.callbacks.ModelCheckpoint(\n",
        "        \"bestTL.weights.h5\",\n",
        "        monitor='val_accuracy',\n",
        "        save_weights_only=True,\n",
        "        save_best_only=True\n",
        "    )\n",
        "]\n",
        "\n",
        "\n",
        "history = model.fit(x = X_train_std, y = y_train, epochs=10,\n",
        "                          validation_split=0.1, batch_size=16, callbacks=callbacks_TL)"
      ],
      "metadata": {
        "id": "srS622UXWKAW",
        "colab": {
          "base_uri": "https://localhost:8080/"
        },
        "outputId": "1940b76a-f42d-4621-d160-3a960c4a1347"
      },
      "execution_count": null,
      "outputs": [
        {
          "output_type": "stream",
          "name": "stdout",
          "text": [
            "Epoch 1/10\n",
            "\u001b[1m102/102\u001b[0m \u001b[32m━━━━━━━━━━━━━━━━━━━━\u001b[0m\u001b[37m\u001b[0m \u001b[1m53s\u001b[0m 262ms/step - accuracy: 0.5675 - loss: 1.3403 - val_accuracy: 0.4889 - val_loss: 1.2465\n",
            "Epoch 2/10\n",
            "\u001b[1m102/102\u001b[0m \u001b[32m━━━━━━━━━━━━━━━━━━━━\u001b[0m\u001b[37m\u001b[0m \u001b[1m2s\u001b[0m 17ms/step - accuracy: 0.7128 - loss: 0.7882 - val_accuracy: 0.7000 - val_loss: 1.0311\n",
            "Epoch 3/10\n",
            "\u001b[1m102/102\u001b[0m \u001b[32m━━━━━━━━━━━━━━━━━━━━\u001b[0m\u001b[37m\u001b[0m \u001b[1m2s\u001b[0m 16ms/step - accuracy: 0.7502 - loss: 0.6615 - val_accuracy: 0.7722 - val_loss: 0.7789\n",
            "Epoch 4/10\n",
            "\u001b[1m102/102\u001b[0m \u001b[32m━━━━━━━━━━━━━━━━━━━━\u001b[0m\u001b[37m\u001b[0m \u001b[1m2s\u001b[0m 17ms/step - accuracy: 0.7713 - loss: 0.5908 - val_accuracy: 0.8556 - val_loss: 0.5565\n",
            "Epoch 5/10\n",
            "\u001b[1m102/102\u001b[0m \u001b[32m━━━━━━━━━━━━━━━━━━━━\u001b[0m\u001b[37m\u001b[0m \u001b[1m2s\u001b[0m 17ms/step - accuracy: 0.7925 - loss: 0.5522 - val_accuracy: 0.9278 - val_loss: 0.3916\n",
            "Epoch 6/10\n",
            "\u001b[1m102/102\u001b[0m \u001b[32m━━━━━━━━━━━━━━━━━━━━\u001b[0m\u001b[37m\u001b[0m \u001b[1m2s\u001b[0m 16ms/step - accuracy: 0.8046 - loss: 0.5195 - val_accuracy: 0.9333 - val_loss: 0.2758\n",
            "Epoch 7/10\n",
            "\u001b[1m102/102\u001b[0m \u001b[32m━━━━━━━━━━━━━━━━━━━━\u001b[0m\u001b[37m\u001b[0m \u001b[1m1s\u001b[0m 12ms/step - accuracy: 0.7839 - loss: 0.5667 - val_accuracy: 0.9000 - val_loss: 0.2565\n",
            "Epoch 8/10\n",
            "\u001b[1m102/102\u001b[0m \u001b[32m━━━━━━━━━━━━━━━━━━━━\u001b[0m\u001b[37m\u001b[0m \u001b[1m1s\u001b[0m 12ms/step - accuracy: 0.7960 - loss: 0.5177 - val_accuracy: 0.9333 - val_loss: 0.2126\n",
            "Epoch 9/10\n",
            "\u001b[1m102/102\u001b[0m \u001b[32m━━━━━━━━━━━━━━━━━━━━\u001b[0m\u001b[37m\u001b[0m \u001b[1m1s\u001b[0m 13ms/step - accuracy: 0.8024 - loss: 0.5039 - val_accuracy: 0.9056 - val_loss: 0.2202\n",
            "Epoch 10/10\n",
            "\u001b[1m102/102\u001b[0m \u001b[32m━━━━━━━━━━━━━━━━━━━━\u001b[0m\u001b[37m\u001b[0m \u001b[1m2s\u001b[0m 16ms/step - accuracy: 0.8400 - loss: 0.4398 - val_accuracy: 0.9444 - val_loss: 0.2054\n"
          ]
        }
      ]
    },
    {
      "cell_type": "code",
      "source": [
        "#accuracy plot\n",
        "keys = ['accuracy', 'val_accuracy']\n",
        "progress = {k:v for k,v in history.history.items() if k in keys}\n",
        "\n",
        "import pandas as pd\n",
        "pd.DataFrame(progress).plot()\n",
        "\n",
        "plt.xlabel(\"epochs\")\n",
        "plt.ylabel(\"accuracy\")\n",
        "\n",
        "plt.grid(True)\n",
        "plt.show()"
      ],
      "metadata": {
        "colab": {
          "base_uri": "https://localhost:8080/",
          "height": 449
        },
        "id": "Xo5Y3RVIYpgQ",
        "outputId": "c0b1a8c0-9231-4b43-d8a8-ed89d5b850be"
      },
      "execution_count": null,
      "outputs": [
        {
          "output_type": "display_data",
          "data": {
            "text/plain": [
              "<Figure size 640x480 with 1 Axes>"
            ],
            "image/png": "[encoded data removed]"
          },
          "metadata": {}
        }
      ]
    },
    {
      "cell_type": "code",
      "source": [
        "#model evaluation\n",
        "testLoss_TL, testAccuracy_TL = model.evaluate(x = X_test_std, y = y_test)\n",
        "print(\"Test-loss: %f, Test-accuracy: %f\" % (testLoss_TL, testAccuracy_TL))"
      ],
      "metadata": {
        "colab": {
          "base_uri": "https://localhost:8080/"
        },
        "id": "r94F2DF4YtLs",
        "outputId": "9f29475c-54c5-4de7-ef5e-a4ecc63aecae"
      },
      "execution_count": null,
      "outputs": [
        {
          "output_type": "stream",
          "name": "stdout",
          "text": [
            "\u001b[1m19/19\u001b[0m \u001b[32m━━━━━━━━━━━━━━━━━━━━\u001b[0m\u001b[37m\u001b[0m \u001b[1m13s\u001b[0m 374ms/step - accuracy: 0.9293 - loss: 0.2362\n",
            "Test-loss: 0.217496, Test-accuracy: 0.931667\n"
          ]
        }
      ]
    },
    {
      "cell_type": "code",
      "source": [
        "#loading the best weights of the model\n",
        "model.load_weights(\"bestTL.weights.h5\")\n",
        "\n",
        "testLoss_TL, testAccuracy_TL = model.evaluate(x = X_test_std, y = y_test)\n",
        "\n",
        "print(\"Test-loss: %f, Test-accuracy: %f\" % (testLoss_TL, testAccuracy_TL))"
      ],
      "metadata": {
        "colab": {
          "base_uri": "https://localhost:8080/"
        },
        "id": "r-dR1iJdYusU",
        "outputId": "8ee2ab9c-7427-4b01-b84d-abb7bd8d146c"
      },
      "execution_count": null,
      "outputs": [
        {
          "output_type": "stream",
          "name": "stdout",
          "text": [
            "\u001b[1m19/19\u001b[0m \u001b[32m━━━━━━━━━━━━━━━━━━━━\u001b[0m\u001b[37m\u001b[0m \u001b[1m0s\u001b[0m 16ms/step - accuracy: 0.9293 - loss: 0.2362\n",
            "Test-loss: 0.217496, Test-accuracy: 0.931667\n"
          ]
        }
      ]
    },
    {
      "cell_type": "code",
      "source": [
        "y_proba = model.predict(X_test_std)\n",
        "y_predict = np.argmax(y_proba, axis=-1)\n",
        "print(y_predict)"
      ],
      "metadata": {
        "colab": {
          "base_uri": "https://localhost:8080/"
        },
        "id": "-f0VuZ4HZJDy",
        "outputId": "3d8af071-b9da-461d-9657-59951c49dc3b"
      },
      "execution_count": null,
      "outputs": [
        {
          "output_type": "stream",
          "name": "stdout",
          "text": [
            "\u001b[1m19/19\u001b[0m \u001b[32m━━━━━━━━━━━━━━━━━━━━\u001b[0m\u001b[37m\u001b[0m \u001b[1m12s\u001b[0m 348ms/step\n",
            "[1 2 1 2 3 3 3 1 0 1 0 0 3 4 1 2 2 3 1 4 3 4 1 4 0 2 2 3 0 2 1 1 3 0 1 4 3\n",
            " 1 0 0 4 0 4 4 2 4 2 1 4 3 4 1 0 4 2 0 4 1 2 0 1 2 4 3 0 0 3 2 4 2 0 3 1 2\n",
            " 4 3 1 2 4 0 1 2 3 1 0 0 2 1 4 3 0 0 0 1 3 3 0 3 4 1 2 4 0 0 4 0 3 0 4 2 1\n",
            " 3 1 2 2 1 2 4 2 0 2 2 4 2 3 0 4 1 2 2 2 0 4 0 2 1 3 0 0 2 3 2 0 2 2 2 0 3\n",
            " 3 0 4 4 3 3 3 0 0 2 2 3 0 1 2 0 3 3 0 3 4 0 1 2 0 3 2 4 2 4 3 2 3 4 2 3 4\n",
            " 0 4 2 4 0 0 0 1 0 1 1 0 4 4 0 0 4 0 4 0 2 0 4 2 1 4 0 3 4 1 4 3 3 3 4 0 4\n",
            " 4 0 4 0 0 3 0 3 2 4 3 1 2 2 4 1 1 4 3 4 3 0 2 0 4 3 2 3 0 2 1 3 3 2 0 4 3\n",
            " 0 0 0 0 3 2 0 2 1 0 1 4 1 2 2 3 3 4 2 0 3 1 2 4 0 1 0 1 4 4 2 4 2 4 2 1 1\n",
            " 1 1 3 2 0 0 2 2 2 0 2 3 1 0 3 3 1 0 3 0 3 3 3 0 2 0 4 2 1 0 2 1 0 3 4 2 4\n",
            " 0 3 2 0 3 0 4 1 2 3 0 4 2 3 2 4 0 0 4 0 4 4 0 4 1 1 3 4 2 2 3 3 0 1 2 3 1\n",
            " 2 1 0 0 3 0 2 4 3 1 4 2 0 0 1 3 1 3 1 1 0 2 0 0 2 4 2 0 3 2 2 3 4 4 1 4 3\n",
            " 4 3 3 0 4 2 4 4 1 2 0 2 4 3 4 0 1 2 3 2 2 3 3 2 3 3 0 0 0 0 0 4 3 2 3 3 1\n",
            " 4 1 0 4 4 0 1 2 2 0 2 3 0 1 1 1 3 3 0 4 1 4 3 2 0 0 2 0 3 1 0 0 3 0 2 1 2\n",
            " 2 2 0 3 1 4 2 4 3 3 0 4 0 3 1 0 4 2 4 4 0 3 3 3 1 1 0 4 2 0 2 0 0 0 0 4 0\n",
            " 3 1 4 2 1 0 0 0 3 3 1 1 3 2 1 4 4 0 3 4 1 3 4 0 0 3 3 1 4 3 2 2 3 1 2 1 2\n",
            " 2 0 3 3 0 2 3 1 4 0 3 0 1 0 0 1 0 4 2 4 1 2 2 2 0 0 3 3 2 4 0 3 3 0 1 3 0\n",
            " 0 0 0 3 0 4 1 0]\n"
          ]
        }
      ]
    },
    {
      "cell_type": "code",
      "source": [
        "from sklearn.metrics import confusion_matrix\n",
        "confusion_matrix(y_true = y_test, y_pred = y_predict)"
      ],
      "metadata": {
        "colab": {
          "base_uri": "https://localhost:8080/"
        },
        "id": "KvOmLJTzZKq8",
        "outputId": "fe101c8a-6884-48d7-b2c3-d6ae54de654e"
      },
      "execution_count": null,
      "outputs": [
        {
          "output_type": "execute_result",
          "data": {
            "text/plain": [
              "array([[124,   1,   0,   0,   0],\n",
              "       [ 28,  91,   0,   0,   6],\n",
              "       [  2,   1, 121,   0,   1],\n",
              "       [  0,   1,   0, 123,   1],\n",
              "       [  0,   0,   0,   0, 100]])"
            ]
          },
          "metadata": {},
          "execution_count": 14
        }
      ]
    },
    {
      "cell_type": "code",
      "source": [
        "#generating confusion matrix\n",
        "cm = confusion_matrix(y_true = y_test, y_pred = y_predict)\n",
        "\n",
        "fig, ax = plt.subplots(figsize=(6, 6))\n",
        "ax.matshow(cm, cmap=plt.cm.Blues, alpha=0.3)\n",
        "\n",
        "for i in range(cm.shape[0]):\n",
        "    for j in range(cm.shape[1]):\n",
        "        ax.text(x=j, y=i, s=cm[i, j], va='center', ha='center')\n",
        "\n",
        "ax.title.set_text('CNN\\n')\n",
        "plt.xlabel('Predicted label')\n",
        "plt.ylabel('True label')\n",
        "\n",
        "plt.tight_layout()\n",
        "plt.savefig(\"ConfusionMatrix.png\", dpi=300, format='png', pad_inches=0.3)\n",
        "plt.show()\n",
        "\n",
        "print(set(y))\n",
        "print(label_encoder.classes_)\n"
      ],
      "metadata": {
        "colab": {
          "base_uri": "https://localhost:8080/",
          "height": 662
        },
        "id": "SIBHJgFDZTPS",
        "outputId": "b8001678-a1e5-4143-d2ad-bf7b11a3d7c1"
      },
      "execution_count": null,
      "outputs": [
        {
          "output_type": "display_data",
          "data": {
            "text/plain": [
              "<Figure size 600x600 with 1 Axes>"
            ],
            "image/png": "[encoded data removed]"
          },
          "metadata": {}
        },
        {
          "output_type": "stream",
          "name": "stdout",
          "text": [
            "{0, 1, 2, 3, 4}\n",
            "['Damask Rose' 'Echeveria Flower' 'Mirabilis Jalapa' 'Rain Lily'\n",
            " 'Zinnia Elegans']\n"
          ]
        }
      ]
    },
    {
      "cell_type": "code",
      "source": [
        "#precision,recall and f1 score\n",
        "pScore = precision_score(y_true= y_test, y_pred = y_predict, average = 'weighted')\n",
        "print(\"Precision: \", pScore)\n",
        "\n",
        "rScore = recall_score(y_true= y_test, y_pred = y_predict, average = 'weighted')\n",
        "print(\"Recall: \", rScore)\n",
        "\n",
        "fScore = f1_score(y_true= y_test, y_pred = y_predict, average = 'weighted')\n",
        "print(\"F1-score: \", fScore)\n",
        "\n",
        "print(\"\\n\\n\\n\")"
      ],
      "metadata": {
        "colab": {
          "base_uri": "https://localhost:8080/"
        },
        "id": "VbRw5reXZtyy",
        "outputId": "8caa9ed6-b137-4c73-f941-edd60e6b1ae2"
      },
      "execution_count": null,
      "outputs": [
        {
          "output_type": "stream",
          "name": "stdout",
          "text": [
            "Precision:  0.9404209692330259\n",
            "Recall:  0.9316666666666666\n",
            "F1-score:  0.9301760849373963\n",
            "\n",
            "\n",
            "\n",
            "\n"
          ]
        }
      ]
    },
    {
      "cell_type": "code",
      "source": [
        "# Saves the best model obtained\n",
        "model.save('/content/drive/MyDrive/model 2/m2Model.h5')"
      ],
      "metadata": {
        "colab": {
          "base_uri": "https://localhost:8080/"
        },
        "id": "WjgPJlwCZu1T",
        "outputId": "9603daf0-cad6-4976-efc9-d9ef584c50f9"
      },
      "execution_count": null,
      "outputs": [
        {
          "output_type": "stream",
          "name": "stderr",
          "text": [
            "WARNING:absl:You are saving your model as an HDF5 file via `model.save()` or `keras.saving.save_model(model)`. This file format is considered legacy. We recommend using instead the native Keras format, e.g. `model.save('my_model.keras')` or `keras.saving.save_model(model, 'my_model.keras')`. \n"
          ]
        }
      ]
    },
    {
      "cell_type": "code",
      "source": [
        "from numpy import save\n",
        "\n",
        "save('/content/drive/MyDrive/model 2/X_train_std.npy', X_train_std)\n",
        "save('/content/drive/MyDrive/model 2/X_test_std.npy', X_test_std)\n",
        "\n",
        "save('/content/drive/MyDrive/model 2/y_train.npy', y_train)\n",
        "save('/content/drive/MyDrive/model 2/y_test.npy', y_test)"
      ],
      "metadata": {
        "id": "4mbadeVmZw1e"
      },
      "execution_count": null,
      "outputs": []
    }
  ]
}