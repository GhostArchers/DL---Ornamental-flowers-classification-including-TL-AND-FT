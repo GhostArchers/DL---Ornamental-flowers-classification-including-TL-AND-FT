{
  "nbformat": 4,
  "nbformat_minor": 0,
  "metadata": {
    "colab": {
      "provenance": [],
      "gpuType": "L4",
      "machine_shape": "hm"
    },
    "kernelspec": {
      "name": "python3",
      "display_name": "Python 3"
    },
    "language_info": {
      "name": "python"
    },
    "accelerator": "GPU"
  },
  "cells": [
    {
      "cell_type": "markdown",
      "source": [
        "\n",
        "\n",
        "*   NAME: GOUTHAM R\n",
        "*   SCHOOL: CDS\n",
        "*   MAIL ID: goutham.r-26@scds.saiuniversity.edu.in\n",
        "\n",
        "\n",
        "\n",
        "\n"
      ],
      "metadata": {
        "id": "8754wd7tG5rG"
      }
    },
    {
      "cell_type": "code",
      "execution_count": null,
      "metadata": {
        "colab": {
          "base_uri": "https://localhost:8080/"
        },
        "id": "aSShRTch4sPP",
        "outputId": "3ee7bf7e-7a75-4bbf-f669-984ad12db235"
      },
      "outputs": [
        {
          "output_type": "stream",
          "name": "stdout",
          "text": [
            "2.17.1\n"
          ]
        }
      ],
      "source": [
        "import tensorflow as tf\n",
        "print(tf.__version__)\n",
        "\n",
        "from tensorflow import keras\n",
        "tf.random.set_seed(42)\n",
        "from sklearn.metrics import precision_score, recall_score, f1_score\n",
        "\n",
        "import numpy as np\n",
        "np.random.seed(42)\n",
        "\n",
        "import matplotlib.pyplot as plt\n",
        "%matplotlib inline"
      ]
    },
    {
      "cell_type": "code",
      "source": [
        "# load numpy array from npY file\n",
        "from numpy import load\n",
        "\n",
        "X_train_std = load('/content/drive/MyDrive/model 2/X_train_std.npy')\n",
        "X_test_std = load('/content/drive/MyDrive/model 2/X_test_std.npy')\n",
        "\n",
        "y_train = load('/content/drive/MyDrive/model 2/y_train.npy')\n",
        "y_test = load('/content/drive/MyDrive/model 2/y_test.npy')\n"
      ],
      "metadata": {
        "id": "IS_zyzbc4yt-"
      },
      "execution_count": null,
      "outputs": []
    },
    {
      "cell_type": "code",
      "source": [
        "from google.colab import drive\n",
        "drive.mount('/content/drive')"
      ],
      "metadata": {
        "colab": {
          "base_uri": "https://localhost:8080/"
        },
        "id": "_PI9mTowO0Mu",
        "outputId": "3e2ea1c8-2044-4fc8-8893-0e5d190f2dd4"
      },
      "execution_count": null,
      "outputs": [
        {
          "output_type": "stream",
          "name": "stdout",
          "text": [
            "Mounted at /content/drive\n"
          ]
        }
      ]
    },
    {
      "cell_type": "code",
      "source": [
        "print(\"X_train_std_shape: {}\".format(X_train_std.shape))\n",
        "print(\"X_test_std_shape: {}\".format(X_test_std.shape))"
      ],
      "metadata": {
        "colab": {
          "base_uri": "https://localhost:8080/"
        },
        "id": "3-ndIyn35YEy",
        "outputId": "1e0b1e5e-60ec-49ae-ef4d-1ab7b9e730b8"
      },
      "execution_count": null,
      "outputs": [
        {
          "output_type": "stream",
          "name": "stdout",
          "text": [
            "X_train_std_shape: (1798, 224, 224, 3)\n",
            "X_test_std_shape: (600, 224, 224, 3)\n"
          ]
        }
      ]
    },
    {
      "cell_type": "code",
      "source": [
        "# Load the saved best model\n",
        "\n",
        "modelft = keras.models.load_model('/content/drive/MyDrive/model 2/m2Model.h5')"
      ],
      "metadata": {
        "colab": {
          "base_uri": "https://localhost:8080/"
        },
        "id": "h9V-dFaH5Zjj",
        "outputId": "ad8a9574-0378-4727-f904-4ee5485237c8"
      },
      "execution_count": null,
      "outputs": [
        {
          "output_type": "stream",
          "name": "stderr",
          "text": [
            "WARNING:absl:Compiled the loaded model, but the compiled metrics have yet to be built. `model.compile_metrics` will be empty until you train or evaluate the model.\n"
          ]
        }
      ]
    },
    {
      "cell_type": "code",
      "source": [
        "modelft.summary()"
      ],
      "metadata": {
        "id": "CiMmfL-j5gCI"
      },
      "execution_count": null,
      "outputs": []
    },
    {
      "cell_type": "code",
      "source": [
        "#calculating the total no of layers and 35 percent of it\n",
        "\n",
        "total_layers = len(modelft.layers)\n",
        "layers_to_freeze = int(0.35 * total_layers)\n",
        "print(total_layers)\n",
        "print(layers_to_freeze)"
      ],
      "metadata": {
        "colab": {
          "base_uri": "https://localhost:8080/"
        },
        "id": "1tW4E5xp5hKp",
        "outputId": "32b5b93c-bbab-48fa-f18d-533057452181"
      },
      "execution_count": null,
      "outputs": [
        {
          "output_type": "stream",
          "name": "stdout",
          "text": [
            "277\n",
            "96\n"
          ]
        }
      ]
    },
    {
      "cell_type": "code",
      "source": [
        "#setting the initial 35 percent of layers as non-trainable\n",
        "for layer in modelft.layers[:layers_to_freeze]:\n",
        "    layer.trainable = False\n",
        "\n",
        "# Set the remaining 65% of layers as trainable\n",
        "for layer in modelft.layers[layers_to_freeze:]:\n",
        "    layer.trainable = True"
      ],
      "metadata": {
        "id": "5OuYIVCW6Dm4"
      },
      "execution_count": null,
      "outputs": []
    },
    {
      "cell_type": "code",
      "source": [
        "#RECOMPILING THE MODEL\n",
        "modelft.compile(loss='sparse_categorical_crossentropy',\n",
        "                 optimizer='adam',\n",
        "                 metrics=['accuracy'])\n",
        "\n",
        "callbacks_FineTune = [\n",
        "    keras.callbacks.ModelCheckpoint(\n",
        "        \"bestFT.weights.h5\",  # Use a valid file extension for weights\n",
        "        monitor='val_accuracy',\n",
        "        save_weights_only=True,  # Save only the weights\n",
        "        save_best_only=True  # Save only the best weights based on val_accuracy\n",
        "    )\n",
        "]\n",
        "\n",
        "history_FineTune = modelft.fit(\n",
        "    x=X_train_std,\n",
        "    y=y_train,\n",
        "    epochs=10,\n",
        "    validation_split=0.1,\n",
        "    batch_size=16,\n",
        "    callbacks=callbacks_FineTune\n",
        ")\n"
      ],
      "metadata": {
        "colab": {
          "base_uri": "https://localhost:8080/"
        },
        "id": "OchZ9EIU6Ft8",
        "outputId": "47e829d0-b442-4355-ef2d-2a90a22bdc72"
      },
      "execution_count": null,
      "outputs": [
        {
          "output_type": "stream",
          "name": "stdout",
          "text": [
            "Epoch 1/10\n",
            "\u001b[1m102/102\u001b[0m \u001b[32m━━━━━━━━━━━━━━━━━━━━\u001b[0m\u001b[37m\u001b[0m \u001b[1m104s\u001b[0m 436ms/step - accuracy: 0.6825 - loss: 1.0912 - val_accuracy: 0.9833 - val_loss: 0.0595\n",
            "Epoch 2/10\n",
            "\u001b[1m102/102\u001b[0m \u001b[32m━━━━━━━━━━━━━━━━━━━━\u001b[0m\u001b[37m\u001b[0m \u001b[1m3s\u001b[0m 28ms/step - accuracy: 0.9001 - loss: 0.3203 - val_accuracy: 0.9889 - val_loss: 0.0324\n",
            "Epoch 3/10\n",
            "\u001b[1m102/102\u001b[0m \u001b[32m━━━━━━━━━━━━━━━━━━━━\u001b[0m\u001b[37m\u001b[0m \u001b[1m3s\u001b[0m 28ms/step - accuracy: 0.9084 - loss: 0.2699 - val_accuracy: 1.0000 - val_loss: 0.0033\n",
            "Epoch 4/10\n",
            "\u001b[1m102/102\u001b[0m \u001b[32m━━━━━━━━━━━━━━━━━━━━\u001b[0m\u001b[37m\u001b[0m \u001b[1m2s\u001b[0m 22ms/step - accuracy: 0.9445 - loss: 0.1445 - val_accuracy: 1.0000 - val_loss: 0.0047\n",
            "Epoch 5/10\n",
            "\u001b[1m102/102\u001b[0m \u001b[32m━━━━━━━━━━━━━━━━━━━━\u001b[0m\u001b[37m\u001b[0m \u001b[1m2s\u001b[0m 22ms/step - accuracy: 0.9655 - loss: 0.1028 - val_accuracy: 1.0000 - val_loss: 0.0017\n",
            "Epoch 6/10\n",
            "\u001b[1m102/102\u001b[0m \u001b[32m━━━━━━━━━━━━━━━━━━━━\u001b[0m\u001b[37m\u001b[0m \u001b[1m2s\u001b[0m 22ms/step - accuracy: 0.9683 - loss: 0.0893 - val_accuracy: 1.0000 - val_loss: 0.0098\n",
            "Epoch 7/10\n",
            "\u001b[1m102/102\u001b[0m \u001b[32m━━━━━━━━━━━━━━━━━━━━\u001b[0m\u001b[37m\u001b[0m \u001b[1m2s\u001b[0m 22ms/step - accuracy: 0.9808 - loss: 0.0691 - val_accuracy: 0.9944 - val_loss: 0.0101\n",
            "Epoch 8/10\n",
            "\u001b[1m102/102\u001b[0m \u001b[32m━━━━━━━━━━━━━━━━━━━━\u001b[0m\u001b[37m\u001b[0m \u001b[1m2s\u001b[0m 22ms/step - accuracy: 0.9593 - loss: 0.1034 - val_accuracy: 1.0000 - val_loss: 9.3882e-04\n",
            "Epoch 9/10\n",
            "\u001b[1m102/102\u001b[0m \u001b[32m━━━━━━━━━━━━━━━━━━━━\u001b[0m\u001b[37m\u001b[0m \u001b[1m2s\u001b[0m 21ms/step - accuracy: 0.9919 - loss: 0.0319 - val_accuracy: 1.0000 - val_loss: 4.0977e-04\n",
            "Epoch 10/10\n",
            "\u001b[1m102/102\u001b[0m \u001b[32m━━━━━━━━━━━━━━━━━━━━\u001b[0m\u001b[37m\u001b[0m \u001b[1m2s\u001b[0m 21ms/step - accuracy: 0.9699 - loss: 0.0864 - val_accuracy: 1.0000 - val_loss: 4.6387e-04\n"
          ]
        }
      ]
    },
    {
      "cell_type": "code",
      "source": [
        "#MODEL ACCURACY PLOT\n",
        "keys = ['accuracy', 'val_accuracy']\n",
        "progress = {k:v for k,v in history_FineTune.history.items() if k in keys}\n",
        "\n",
        "import pandas as pd\n",
        "pd.DataFrame(progress).plot()\n",
        "\n",
        "plt.xlabel(\"epochs\")\n",
        "plt.ylabel(\"accuracy\")\n",
        "\n",
        "plt.grid(True)\n",
        "\n",
        "plt.show()"
      ],
      "metadata": {
        "colab": {
          "base_uri": "https://localhost:8080/",
          "height": 449
        },
        "id": "HwztQ_bT6I7C",
        "outputId": "9922281c-db7d-41d8-ada7-bbe976d9b219"
      },
      "execution_count": null,
      "outputs": [
        {
          "output_type": "display_data",
          "data": {
            "text/plain": [
              "<Figure size 640x480 with 1 Axes>"
            ],
            "image/png": "[encoded data removed]"
          },
          "metadata": {}
        }
      ]
    },
    {
      "cell_type": "code",
      "source": [
        "#MODEL EVALUATION\n",
        "testLoss_FineTune, testAccuracy_FineTune = modelft.evaluate(x = X_test_std, y = y_test)\n",
        "print(\"Test-loss: %f, Test-accuracy: %f\" % (testLoss_FineTune, testAccuracy_FineTune))"
      ],
      "metadata": {
        "colab": {
          "base_uri": "https://localhost:8080/"
        },
        "id": "zweFQ70v6LGy",
        "outputId": "13559c71-f012-4e34-c38e-4fe7f94228f6"
      },
      "execution_count": null,
      "outputs": [
        {
          "output_type": "stream",
          "name": "stdout",
          "text": [
            "\u001b[1m19/19\u001b[0m \u001b[32m━━━━━━━━━━━━━━━━━━━━\u001b[0m\u001b[37m\u001b[0m \u001b[1m13s\u001b[0m 362ms/step - accuracy: 0.9984 - loss: 0.0074\n",
            "Test-loss: 0.007687, Test-accuracy: 0.998333\n"
          ]
        }
      ]
    },
    {
      "cell_type": "code",
      "source": [
        "#LOADING THE BEST WEIGHTS\n",
        "modelft.load_weights(\"bestFT.weights.h5\")\n",
        "\n",
        "testLossft, testAccuracyft = modelft.evaluate(x = X_test_std, y = y_test)\n",
        "\n",
        "print(\"Test-loss: %f, Test-accuracy: %f\" % (testLoss_FineTune, testAccuracy_FineTune))"
      ],
      "metadata": {
        "colab": {
          "base_uri": "https://localhost:8080/"
        },
        "id": "QrXIzmWL6Mom",
        "outputId": "5f07e7a1-b90b-4fab-a37f-8871ec94de18"
      },
      "execution_count": null,
      "outputs": [
        {
          "output_type": "stream",
          "name": "stdout",
          "text": [
            "\u001b[1m19/19\u001b[0m \u001b[32m━━━━━━━━━━━━━━━━━━━━\u001b[0m\u001b[37m\u001b[0m \u001b[1m0s\u001b[0m 16ms/step - accuracy: 0.9966 - loss: 0.0111\n",
            "Test-loss: 0.007687, Test-accuracy: 0.998333\n"
          ]
        }
      ]
    },
    {
      "cell_type": "code",
      "source": [
        "y_proba = modelft.predict(X_test_std)\n",
        "y_predict = np.argmax(y_proba, axis=-1)\n",
        "print(y_predict)"
      ],
      "metadata": {
        "colab": {
          "base_uri": "https://localhost:8080/"
        },
        "id": "osZhW4MTQ8Qe",
        "outputId": "aa95a8d6-fd25-47a9-8efa-bb2399c1e764"
      },
      "execution_count": null,
      "outputs": [
        {
          "output_type": "stream",
          "name": "stdout",
          "text": [
            "\u001b[1m19/19\u001b[0m \u001b[32m━━━━━━━━━━━━━━━━━━━━\u001b[0m\u001b[37m\u001b[0m \u001b[1m9s\u001b[0m 200ms/step\n",
            "[1 2 1 2 3 3 3 1 0 1 0 1 3 4 1 2 2 3 1 4 3 4 1 4 1 2 2 3 0 2 1 1 3 1 1 4 3\n",
            " 1 0 0 4 0 4 4 2 4 2 1 4 3 4 1 0 4 2 0 4 1 2 0 1 2 4 3 0 0 3 2 4 2 0 3 2 2\n",
            " 4 3 1 2 4 0 1 2 3 1 0 0 2 1 4 3 0 0 0 1 3 3 0 3 4 1 2 4 0 0 4 1 3 1 4 2 1\n",
            " 3 1 2 2 1 2 4 2 1 2 2 4 2 3 0 4 0 2 2 2 0 4 0 2 1 3 0 0 2 3 2 0 2 2 2 1 3\n",
            " 3 0 3 1 3 3 3 0 0 2 2 3 0 1 2 0 3 3 0 3 4 1 1 2 0 3 2 4 2 4 3 2 3 4 2 3 4\n",
            " 1 4 2 4 0 1 1 1 1 1 1 1 4 4 0 0 4 0 4 0 2 0 4 2 1 4 2 3 4 1 4 3 3 3 4 0 4\n",
            " 4 0 4 0 0 3 1 3 2 1 3 1 2 2 4 1 1 4 3 4 3 0 2 0 4 3 2 3 0 2 1 3 3 2 1 4 3\n",
            " 0 0 0 0 3 2 0 2 1 0 1 4 1 2 2 3 3 4 2 0 3 1 2 4 0 1 0 1 4 4 2 1 2 4 2 1 1\n",
            " 1 1 3 2 0 0 2 2 2 0 2 3 1 0 3 3 1 0 3 0 3 3 3 0 2 1 4 2 1 0 2 1 0 3 4 2 4\n",
            " 0 3 2 0 3 0 4 1 2 3 0 1 2 3 2 4 1 0 4 0 4 4 0 4 1 1 3 4 2 2 3 3 0 1 2 3 1\n",
            " 2 1 1 0 3 2 2 1 3 1 4 2 0 0 1 3 1 3 3 1 1 2 0 0 2 4 2 0 3 2 2 3 4 4 1 4 3\n",
            " 4 3 3 0 4 2 4 4 1 2 0 2 4 3 4 1 1 2 3 2 2 3 3 2 3 3 0 1 0 0 1 4 3 2 3 3 1\n",
            " 4 1 0 4 4 0 1 2 2 0 2 3 0 1 1 1 3 3 0 4 1 4 3 2 0 0 2 0 3 1 0 1 3 0 2 1 2\n",
            " 2 2 0 3 1 4 2 4 3 3 0 1 0 3 1 0 4 2 4 4 0 3 3 3 1 1 0 4 2 0 2 0 0 0 0 4 0\n",
            " 3 1 4 2 1 0 0 0 3 3 1 1 3 2 1 4 4 0 3 4 1 3 4 0 0 3 3 1 4 3 2 2 3 1 2 1 2\n",
            " 2 0 3 3 0 2 3 1 4 0 3 0 1 1 0 1 0 4 2 4 1 2 2 2 1 0 3 3 2 4 1 3 3 0 1 3 0\n",
            " 0 1 0 3 0 4 1 0]\n"
          ]
        }
      ]
    },
    {
      "cell_type": "code",
      "source": [],
      "metadata": {
        "id": "zOUbCjhuRAD5"
      },
      "execution_count": null,
      "outputs": []
    },
    {
      "cell_type": "code",
      "source": [
        "#precision, recall and f1-score\n",
        "\n",
        "pScore = precision_score(y_true= y_test, y_pred = y_predict, average = 'weighted')\n",
        "print(\"Precision: \", pScore)\n",
        "\n",
        "rScore = recall_score(y_true= y_test, y_pred = y_predict, average = 'weighted')\n",
        "print(\"Recall: \", rScore)\n",
        "\n",
        "fScore = f1_score(y_true= y_test, y_pred = y_predict, average = 'weighted')\n",
        "print(\"F1-score: \", fScore)\n",
        "\n",
        "print(\"\\n\\n\\n\")"
      ],
      "metadata": {
        "colab": {
          "base_uri": "https://localhost:8080/"
        },
        "id": "qrYrmgaNRDsx",
        "outputId": "18f9e7a6-d069-4bd0-f2e3-1ba3f5ac6de0"
      },
      "execution_count": null,
      "outputs": [
        {
          "output_type": "stream",
          "name": "stdout",
          "text": [
            "Precision:  0.9966963958300592\n",
            "Recall:  0.9966666666666667\n",
            "F1-score:  0.996667439216341\n",
            "\n",
            "\n",
            "\n",
            "\n"
          ]
        }
      ]
    },
    {
      "cell_type": "code",
      "source": [
        "from sklearn.metrics import confusion_matrix\n",
        "confusion_matrix(y_true = y_test, y_pred = y_predict)"
      ],
      "metadata": {
        "colab": {
          "base_uri": "https://localhost:8080/"
        },
        "id": "7lO35A8ERYAs",
        "outputId": "0a007004-972f-4982-ab54-73e000980065"
      },
      "execution_count": null,
      "outputs": [
        {
          "output_type": "execute_result",
          "data": {
            "text/plain": [
              "array([[125,   0,   0,   0,   0],\n",
              "       [  1, 124,   0,   0,   0],\n",
              "       [  0,   0, 124,   0,   1],\n",
              "       [  0,   0,   0, 125,   0],\n",
              "       [  0,   0,   0,   0, 100]])"
            ]
          },
          "metadata": {},
          "execution_count": 21
        }
      ]
    },
    {
      "cell_type": "code",
      "source": [
        "#Generating confusion matrix\n",
        "cm = confusion_matrix(y_true = y_test, y_pred = y_predict)\n",
        "\n",
        "fig, ax = plt.subplots(figsize=(6, 6))\n",
        "ax.matshow(cm, cmap=plt.cm.Blues, alpha=0.3)\n",
        "\n",
        "for i in range(cm.shape[0]):\n",
        "    for j in range(cm.shape[1]):\n",
        "        ax.text(x=j, y=i, s=cm[i, j], va='center', ha='center')\n",
        "\n",
        "ax.title.set_text('CNN\\n')\n",
        "plt.xlabel('Predicted label')\n",
        "plt.ylabel('True label')\n",
        "\n",
        "plt.tight_layout()\n",
        "plt.savefig(\"ConfusionMatrix.png\", dpi=300, format='png', pad_inches=0.3)\n",
        "plt.show()\n",
        "\n",
        "numbers = [0, 1, 2, 3, 4]\n",
        "plants = ['Damask Rose', 'Echeveria Flower', 'Mirabilis Jalapa', 'Rain Lily', 'Zinnia Elegans']\n",
        "\n",
        "for number, plant in zip(numbers, plants):\n",
        "    print(f\"{number}: {plant}\")\n"
      ],
      "metadata": {
        "colab": {
          "base_uri": "https://localhost:8080/",
          "height": 698
        },
        "id": "Zw5rP91VRZ0M",
        "outputId": "47da9299-3991-432a-d862-095c6d729f2e"
      },
      "execution_count": null,
      "outputs": [
        {
          "output_type": "display_data",
          "data": {
            "text/plain": [
              "<Figure size 600x600 with 1 Axes>"
            ],
            "image/png": "[encoded data removed]"
          },
          "metadata": {}
        },
        {
          "output_type": "stream",
          "name": "stdout",
          "text": [
            "0: Damask Rose\n",
            "1: Echeveria Flower\n",
            "2: Mirabilis Jalapa\n",
            "3: Rain Lily\n",
            "4: Zinnia Elegans\n"
          ]
        }
      ]
    },
    {
      "cell_type": "code",
      "source": [
        "cProba = modelft.predict(X_test_std[:1])\n",
        "\n",
        "print(cProba)"
      ],
      "metadata": {
        "colab": {
          "base_uri": "https://localhost:8080/"
        },
        "id": "UMb458496N_T",
        "outputId": "675246ba-4584-413d-8b58-ea9f748dc006"
      },
      "execution_count": null,
      "outputs": [
        {
          "output_type": "stream",
          "name": "stdout",
          "text": [
            "\u001b[1m1/1\u001b[0m \u001b[32m━━━━━━━━━━━━━━━━━━━━\u001b[0m\u001b[37m\u001b[0m \u001b[1m7s\u001b[0m 7s/step\n",
            "[[1.2492362e-02 9.8714972e-01 2.1890242e-04 1.8434275e-06 1.3707006e-04]]\n"
          ]
        }
      ]
    },
    {
      "cell_type": "code",
      "source": [
        "cLabel = np.argmax(cProba, axis=-1)\n",
        "\n",
        "print(cLabel)"
      ],
      "metadata": {
        "colab": {
          "base_uri": "https://localhost:8080/"
        },
        "id": "ZXM9JCyN6Pr_",
        "outputId": "49831b01-67d7-4173-e543-04687edc3023"
      },
      "execution_count": null,
      "outputs": [
        {
          "output_type": "stream",
          "name": "stdout",
          "text": [
            "[1]\n"
          ]
        }
      ]
    },
    {
      "cell_type": "markdown",
      "source": [],
      "metadata": {
        "id": "2BXLbXRB9g5k"
      }
    },
    {
      "cell_type": "code",
      "source": [],
      "metadata": {
        "id": "55xYw-Lo6ROa"
      },
      "execution_count": null,
      "outputs": []
    },
    {
      "cell_type": "code",
      "source": [
        "print(type(modelft))\n"
      ],
      "metadata": {
        "colab": {
          "base_uri": "https://localhost:8080/"
        },
        "id": "hppYil0A9AQp",
        "outputId": "3547397d-9aca-465a-dc76-feba8c76ac79"
      },
      "execution_count": null,
      "outputs": [
        {
          "output_type": "stream",
          "name": "stdout",
          "text": [
            "<class 'keras.src.models.functional.Functional'>\n"
          ]
        }
      ]
    },
    {
      "cell_type": "code",
      "source": [],
      "metadata": {
        "id": "BBJwNAXz9Ath"
      },
      "execution_count": null,
      "outputs": []
    }
  ]
}