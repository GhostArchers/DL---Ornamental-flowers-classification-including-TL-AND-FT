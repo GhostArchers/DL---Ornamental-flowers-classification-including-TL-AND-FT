{
  "nbformat": 4,
  "nbformat_minor": 0,
  "metadata": {
    "colab": {
      "provenance": [],
      "gpuType": "L4",
      "machine_shape": "hm"
    },
    "kernelspec": {
      "name": "python3",
      "display_name": "Python 3"
    },
    "language_info": {
      "name": "python"
    },
    "accelerator": "GPU"
  },
  "cells": [
    {
      "cell_type": "markdown",
      "source": [
        "\n",
        "\n",
        "*   NAME: GOUTHAM R\n",
        "*   SCHOOL: CDS\n",
        "*   MAIL ID: goutham.r-26@scds.saiuniversity.edu.in\n",
        "\n",
        "\n",
        "\n",
        "\n",
        "\n",
        "\n"
      ],
      "metadata": {
        "id": "5loi9BPjHaxx"
      }
    },
    {
      "cell_type": "code",
      "execution_count": null,
      "metadata": {
        "id": "JxusGykQep6T"
      },
      "outputs": [],
      "source": [
        "import tensorflow as tf\n",
        "from tensorflow.keras.applications import ConvNeXtTiny\n",
        "from tensorflow.keras.models import Model\n",
        "from tensorflow.keras.layers import Dense, Dropout, BatchNormalization, GlobalAveragePooling2D\n",
        "from tensorflow.keras.callbacks import ModelCheckpoint, EarlyStopping, LearningRateScheduler\n",
        "from tensorflow.keras.preprocessing import image_dataset_from_directory\n",
        "from tensorflow.keras import layers, Model\n",
        "import keras\n",
        "from sklearn.preprocessing import LabelEncoder\n",
        "from sklearn.model_selection import train_test_split\n",
        "from sklearn.metrics import confusion_matrix\n",
        "from sklearn.metrics import precision_score, recall_score, f1_score\n",
        "\n",
        "import numpy as np\n",
        "import matplotlib.pyplot as plt\n",
        "from collections import Counter\n",
        "\n",
        "import os\n",
        "import glob\n",
        "import PIL\n",
        "from PIL import Image\n",
        "\n",
        "# Set random seeds for reproducibility\n",
        "tf.random.set_seed(42)\n",
        "np.random.seed(42)\n"
      ]
    },
    {
      "cell_type": "code",
      "source": [
        "from google.colab import drive\n",
        "drive.mount('/content/drive')"
      ],
      "metadata": {
        "colab": {
          "base_uri": "https://localhost:8080/"
        },
        "id": "0j3_Gy79e9lL",
        "outputId": "72236528-e386-4c0a-b075-baf05f95b112"
      },
      "execution_count": null,
      "outputs": [
        {
          "output_type": "stream",
          "name": "stdout",
          "text": [
            "Mounted at /content/drive\n"
          ]
        }
      ]
    },
    {
      "cell_type": "code",
      "source": [
        "\n",
        "# Dataset Path\n",
        "dataset_path = \"/content/drive/MyDrive/Ornamental_Plants\""
      ],
      "metadata": {
        "id": "GuULtDQte_vL"
      },
      "execution_count": null,
      "outputs": []
    },
    {
      "cell_type": "code",
      "source": [
        "# Load and Preprocess Dataset\n",
        "img_size = (224, 224)  #REQUIREMENT OF ConvNeXtTiny\n",
        "X = []\n",
        "y = []\n",
        "\n",
        "# Use glob to load images from each folder and os to handle directories\n",
        "for class_folder in os.listdir(dataset_path):\n",
        "    class_path = os.path.join(dataset_path, class_folder)\n",
        "    if os.path.isdir(class_path):  #\n",
        "        for img_file in glob.glob(os.path.join(class_path, \"*.jpg\")) + glob.glob(os.path.join(class_path, \"*.jpeg\")):\n",
        "            img = Image.open(img_file).resize(img_size)\n",
        "            img = np.array(img) / 255.0  # Normalize pixel values to [0, 1]\n",
        "            X.append(img)\n",
        "            y.append(class_folder)\n",
        "\n",
        "# Converting to numpy arrays\n",
        "X = np.array(X)\n",
        "y = np.array(y)\n",
        "\n",
        "# label encoding\n",
        "label_encoder = LabelEncoder()\n",
        "y = label_encoder.fit_transform(y)\n",
        "\n",
        "# Display class names and the number of flowers in each class\n",
        "class_names = label_encoder.classes_\n",
        "print(\"Class Names and Counts:\")\n",
        "for class_name in class_names:\n",
        "    print(f\"{class_name}: {np.sum(y == label_encoder.transform([class_name])[0])}\")\n",
        "\n",
        "print(f\"Total no of images: {len(X)}\")"
      ],
      "metadata": {
        "colab": {
          "base_uri": "https://localhost:8080/"
        },
        "id": "rROC4JMsfCpx",
        "outputId": "e29e2444-3e86-4a44-f0b0-10a842aa4ecb"
      },
      "execution_count": null,
      "outputs": [
        {
          "output_type": "stream",
          "name": "stdout",
          "text": [
            "Class Names and Counts:\n",
            "Damask Rose: 500\n",
            "Echeveria Flower: 500\n",
            "Mirabilis Jalapa: 500\n",
            "Rain Lily: 498\n",
            "Zinnia Elegans: 400\n",
            "Total no of images: 2398\n"
          ]
        }
      ]
    },
    {
      "cell_type": "code",
      "source": [
        "#25-75 TEST TRAIN SPLIT\n",
        "from sklearn.model_selection import train_test_split\n",
        "\n",
        "X_train, X_test, y_train, y_test = train_test_split(X, y, test_size=0.25,\n",
        "                                                    stratify=y, random_state=42)\n",
        "\n",
        "print(\"X_train_shape: {}\".format(X_train.shape))\n",
        "print(\"X_test_shape: {}\".format(X_test.shape))"
      ],
      "metadata": {
        "colab": {
          "base_uri": "https://localhost:8080/"
        },
        "id": "dBfacwfFfMXc",
        "outputId": "f3a677b3-07c0-4aa5-8d50-4576d3181562"
      },
      "execution_count": null,
      "outputs": [
        {
          "output_type": "stream",
          "name": "stdout",
          "text": [
            "X_train_shape: (1798, 224, 224, 3)\n",
            "X_test_shape: (600, 224, 224, 3)\n"
          ]
        }
      ]
    },
    {
      "cell_type": "code",
      "source": [
        "#No of training and testing images\n",
        "print(\"Dataset Split:\")\n",
        "print(f\"Total images: {len(X)}\")\n",
        "print(f\"Training images: {len(X_train)}\")\n",
        "print(f\"Testing images: {len(X_test)}\")"
      ],
      "metadata": {
        "colab": {
          "base_uri": "https://localhost:8080/"
        },
        "id": "uTpjjSXtKaqL",
        "outputId": "679abad0-2df9-4a08-ed79-10482b3c50e1"
      },
      "execution_count": null,
      "outputs": [
        {
          "output_type": "stream",
          "name": "stdout",
          "text": [
            "Dataset Split:\n",
            "Total images: 2398\n",
            "Training images: 1918\n",
            "Testing images: 480\n"
          ]
        }
      ]
    },
    {
      "cell_type": "code",
      "source": [
        "mu = X_train.mean()\n",
        "std = X_train.std()\n",
        "\n",
        "X_train_std = (X_train-mu)/std\n",
        "X_test_std = (X_test-mu)/std"
      ],
      "metadata": {
        "id": "jz77xeHjft7d"
      },
      "execution_count": null,
      "outputs": []
    },
    {
      "cell_type": "code",
      "source": [
        "#LOAD THE MODEL\n",
        "base_model = ConvNeXtTiny(\n",
        "    include_top=False,\n",
        "    weights=\"imagenet\",\n",
        "    input_shape=(224, 224, 3)\n",
        ")\n",
        "\n",
        "# Freeze the base model\n",
        "base_model.trainable = False\n",
        "\n",
        "# custom layer\n",
        "x = base_model.output\n",
        "x = layers.GlobalAveragePooling2D()(x)\n",
        "x = layers.Dropout(0.15)(x)               # Dropout with 15% drop rate\n",
        "output = layers.Dense(5, activation='softmax')(x)\n",
        "\n",
        "# Building the final model\n",
        "model = Model(inputs=base_model.input, outputs=output)"
      ],
      "metadata": {
        "colab": {
          "base_uri": "https://localhost:8080/"
        },
        "id": "L33vMxWPfw6C",
        "outputId": "154fad78-a5d8-48a9-8af0-323e37ffa0ad"
      },
      "execution_count": null,
      "outputs": [
        {
          "output_type": "stream",
          "name": "stdout",
          "text": [
            "Downloading data from https://storage.googleapis.com/tensorflow/keras-applications/convnext/convnext_tiny_notop.h5\n",
            "\u001b[1m111650432/111650432\u001b[0m \u001b[32m━━━━━━━━━━━━━━━━━━━━\u001b[0m\u001b[37m\u001b[0m \u001b[1m6s\u001b[0m 0us/step\n"
          ]
        }
      ]
    },
    {
      "cell_type": "code",
      "source": [
        "model.compile(loss='sparse_categorical_crossentropy',\n",
        "                 optimizer='adam',\n",
        "                 metrics=['accuracy'])\n",
        "callbacks = [\n",
        "    keras.callbacks.ModelCheckpoint(\n",
        "        \"/content/drive/MyDrive/model 3/bestTL.weights.h5\",\n",
        "        monitor='val_accuracy',\n",
        "        save_weights_only=True,\n",
        "        save_best_only=True\n",
        "    )\n",
        "]\n",
        "\n",
        "\n",
        "\n",
        "history = model.fit(x = X_train_std, y = y_train, epochs=10,\n",
        "                          validation_split=0.1, batch_size=16, callbacks=callbacks)"
      ],
      "metadata": {
        "id": "C_ChffIWgWW2",
        "colab": {
          "base_uri": "https://localhost:8080/"
        },
        "outputId": "97118b82-8c85-4d35-ee1d-8aac9370c852"
      },
      "execution_count": null,
      "outputs": [
        {
          "output_type": "stream",
          "name": "stdout",
          "text": [
            "Epoch 1/10\n",
            "\u001b[1m102/102\u001b[0m \u001b[32m━━━━━━━━━━━━━━━━━━━━\u001b[0m\u001b[37m\u001b[0m \u001b[1m65s\u001b[0m 415ms/step - accuracy: 0.4555 - loss: 1.5204 - val_accuracy: 0.9056 - val_loss: 0.6819\n",
            "Epoch 2/10\n",
            "\u001b[1m102/102\u001b[0m \u001b[32m━━━━━━━━━━━━━━━━━━━━\u001b[0m\u001b[37m\u001b[0m \u001b[1m3s\u001b[0m 28ms/step - accuracy: 0.9142 - loss: 0.5398 - val_accuracy: 0.9778 - val_loss: 0.3950\n",
            "Epoch 3/10\n",
            "\u001b[1m102/102\u001b[0m \u001b[32m━━━━━━━━━━━━━━━━━━━━\u001b[0m\u001b[37m\u001b[0m \u001b[1m3s\u001b[0m 28ms/step - accuracy: 0.9673 - loss: 0.3209 - val_accuracy: 0.9889 - val_loss: 0.2669\n",
            "Epoch 4/10\n",
            "\u001b[1m102/102\u001b[0m \u001b[32m━━━━━━━━━━━━━━━━━━━━\u001b[0m\u001b[37m\u001b[0m \u001b[1m2s\u001b[0m 23ms/step - accuracy: 0.9844 - loss: 0.2100 - val_accuracy: 0.9889 - val_loss: 0.1946\n",
            "Epoch 5/10\n",
            "\u001b[1m102/102\u001b[0m \u001b[32m━━━━━━━━━━━━━━━━━━━━\u001b[0m\u001b[37m\u001b[0m \u001b[1m2s\u001b[0m 23ms/step - accuracy: 0.9964 - loss: 0.1509 - val_accuracy: 0.9889 - val_loss: 0.1490\n",
            "Epoch 6/10\n",
            "\u001b[1m102/102\u001b[0m \u001b[32m━━━━━━━━━━━━━━━━━━━━\u001b[0m\u001b[37m\u001b[0m \u001b[1m2s\u001b[0m 23ms/step - accuracy: 0.9960 - loss: 0.1165 - val_accuracy: 0.9889 - val_loss: 0.1202\n",
            "Epoch 7/10\n",
            "\u001b[1m102/102\u001b[0m \u001b[32m━━━━━━━━━━━━━━━━━━━━\u001b[0m\u001b[37m\u001b[0m \u001b[1m2s\u001b[0m 23ms/step - accuracy: 0.9976 - loss: 0.0929 - val_accuracy: 0.9889 - val_loss: 0.0992\n",
            "Epoch 8/10\n",
            "\u001b[1m102/102\u001b[0m \u001b[32m━━━━━━━━━━━━━━━━━━━━\u001b[0m\u001b[37m\u001b[0m \u001b[1m3s\u001b[0m 28ms/step - accuracy: 0.9998 - loss: 0.0781 - val_accuracy: 0.9944 - val_loss: 0.0823\n",
            "Epoch 9/10\n",
            "\u001b[1m102/102\u001b[0m \u001b[32m━━━━━━━━━━━━━━━━━━━━\u001b[0m\u001b[37m\u001b[0m \u001b[1m2s\u001b[0m 23ms/step - accuracy: 0.9983 - loss: 0.0650 - val_accuracy: 0.9944 - val_loss: 0.0704\n",
            "Epoch 10/10\n",
            "\u001b[1m102/102\u001b[0m \u001b[32m━━━━━━━━━━━━━━━━━━━━\u001b[0m\u001b[37m\u001b[0m \u001b[1m2s\u001b[0m 23ms/step - accuracy: 1.0000 - loss: 0.0559 - val_accuracy: 0.9944 - val_loss: 0.0617\n"
          ]
        }
      ]
    },
    {
      "cell_type": "code",
      "source": [
        "#accuracy plot\n",
        "keys = ['accuracy', 'val_accuracy']\n",
        "progress = {k:v for k,v in history.history.items() if k in keys}\n",
        "\n",
        "import pandas as pd\n",
        "pd.DataFrame(progress).plot()\n",
        "\n",
        "plt.xlabel(\"epochs\")\n",
        "plt.ylabel(\"accuracy\")\n",
        "\n",
        "plt.grid(True)\n",
        "plt.show()"
      ],
      "metadata": {
        "id": "_OY3u7rihKFD",
        "colab": {
          "base_uri": "https://localhost:8080/",
          "height": 449
        },
        "outputId": "226b5397-8abe-44b2-9613-831f72b62066"
      },
      "execution_count": null,
      "outputs": [
        {
          "output_type": "display_data",
          "data": {
            "text/plain": [
              "<Figure size 640x480 with 1 Axes>"
            ],
            "image/png": "[encoded data removed]"
          },
          "metadata": {}
        }
      ]
    },
    {
      "cell_type": "code",
      "source": [
        "#model evaluation\n",
        "testLoss_TL, testAccuracy_TL = model.evaluate(x = X_test_std, y = y_test)\n",
        "print(\"Test-loss: %f, Test-accuracy: %f\" % (testLoss_TL, testAccuracy_TL))"
      ],
      "metadata": {
        "id": "e86RhIAwhNHH",
        "colab": {
          "base_uri": "https://localhost:8080/"
        },
        "outputId": "f18aa156-6dec-49cb-b9ff-49bae06b9abc"
      },
      "execution_count": null,
      "outputs": [
        {
          "output_type": "stream",
          "name": "stdout",
          "text": [
            "\u001b[1m19/19\u001b[0m \u001b[32m━━━━━━━━━━━━━━━━━━━━\u001b[0m\u001b[37m\u001b[0m \u001b[1m20s\u001b[0m 577ms/step - accuracy: 1.0000 - loss: 0.0541\n",
            "Test-loss: 0.055668, Test-accuracy: 1.000000\n"
          ]
        }
      ]
    },
    {
      "cell_type": "code",
      "source": [
        "#loading the best weights\n",
        "model.load_weights(\"/content/drive/MyDrive/model 3/bestTL.weights.h5\")\n",
        "\n",
        "testLoss_TL, testAccuracy_TL = model.evaluate(x = X_test_std, y = y_test)\n",
        "\n",
        "print(\"Test-loss: %f, Test-accuracy: %f\" % (testLoss_TL, testAccuracy_TL))"
      ],
      "metadata": {
        "id": "tTazuXtChQ0G",
        "colab": {
          "base_uri": "https://localhost:8080/"
        },
        "outputId": "096245bc-da0b-4c58-83fc-737e27d9d25d"
      },
      "execution_count": null,
      "outputs": [
        {
          "output_type": "stream",
          "name": "stdout",
          "text": [
            "\u001b[1m19/19\u001b[0m \u001b[32m━━━━━━━━━━━━━━━━━━━━\u001b[0m\u001b[37m\u001b[0m \u001b[1m1s\u001b[0m 44ms/step - accuracy: 1.0000 - loss: 0.0729\n",
            "Test-loss: 0.075747, Test-accuracy: 1.000000\n"
          ]
        }
      ]
    },
    {
      "cell_type": "code",
      "source": [
        "y_proba = model.predict(X_test_std)\n",
        "y_predict = np.argmax(y_proba, axis=-1)\n",
        "print(y_predict)"
      ],
      "metadata": {
        "id": "1lj5dR_3hS4A",
        "colab": {
          "base_uri": "https://localhost:8080/"
        },
        "outputId": "94e0587e-abf7-4ed2-f97c-1ebb5f4cfdc6"
      },
      "execution_count": null,
      "outputs": [
        {
          "output_type": "stream",
          "name": "stdout",
          "text": [
            "\u001b[1m19/19\u001b[0m \u001b[32m━━━━━━━━━━━━━━━━━━━━\u001b[0m\u001b[37m\u001b[0m \u001b[1m9s\u001b[0m 255ms/step\n",
            "[1 2 1 2 3 3 3 1 0 1 0 1 3 4 1 2 2 3 1 4 3 4 1 4 1 2 2 3 0 2 1 1 3 1 1 4 3\n",
            " 1 0 0 4 0 4 4 2 4 2 1 4 3 4 1 0 4 2 0 4 1 2 0 1 2 4 3 0 0 3 2 4 2 0 3 2 2\n",
            " 4 3 1 2 4 0 1 2 3 1 0 0 2 1 4 3 0 0 0 1 3 3 0 3 4 1 2 4 0 0 4 1 3 1 4 2 1\n",
            " 3 1 2 2 1 2 4 2 1 2 2 4 2 3 0 4 0 2 2 2 0 4 0 2 1 3 0 0 2 3 2 0 2 2 2 1 3\n",
            " 3 0 3 1 3 3 3 0 0 2 2 3 0 1 2 0 3 3 0 3 4 1 1 2 0 3 2 4 2 4 3 2 3 4 2 3 4\n",
            " 1 4 2 4 0 1 1 1 1 1 1 1 4 4 0 0 4 1 4 0 2 0 4 2 1 4 2 3 4 1 4 3 3 3 4 0 4\n",
            " 4 0 2 0 0 3 1 3 2 1 3 1 2 2 4 1 1 4 3 4 3 0 2 0 4 3 2 3 0 2 1 3 3 2 1 4 3\n",
            " 0 0 0 0 3 2 0 2 1 0 1 4 1 2 2 3 3 4 2 0 3 1 2 4 0 1 0 1 4 4 2 1 2 4 2 1 1\n",
            " 1 1 3 2 0 0 2 2 2 0 2 3 1 0 3 3 1 0 3 0 3 3 3 0 2 1 4 2 1 0 2 1 0 3 4 2 4\n",
            " 0 3 2 0 3 0 4 1 2 3 0 1 2 3 2 4 1 0 4 0 4 4 0 4 1 1 3 4 2 2 3 3 0 1 2 3 1\n",
            " 2 1 1 0 3 2 2 1 3 1 4 2 0 0 1 3 1 3 3 1 1 2 0 0 2 4 2 0 3 2 2 3 4 4 1 4 3\n",
            " 4 3 3 0 4 2 4 4 1 2 0 2 4 3 4 1 1 2 3 2 2 3 3 2 3 3 0 1 0 0 1 4 3 2 3 3 1\n",
            " 4 1 0 4 4 0 1 2 2 0 2 3 0 1 1 1 3 3 0 4 1 4 3 2 0 0 2 0 3 1 0 1 3 0 2 1 2\n",
            " 2 2 0 3 1 4 2 4 3 3 0 1 0 3 1 0 4 2 4 4 0 3 3 3 1 1 0 4 2 0 2 0 0 0 0 4 0\n",
            " 3 1 4 2 1 0 0 0 3 3 1 1 3 2 1 4 4 0 3 4 1 3 4 0 0 3 3 1 4 3 2 2 3 1 2 1 2\n",
            " 2 0 3 3 0 2 3 1 4 0 3 0 1 1 0 1 0 4 2 4 1 2 2 2 1 0 3 3 2 4 1 3 3 0 1 3 0\n",
            " 0 1 0 3 0 4 1 0]\n"
          ]
        }
      ]
    },
    {
      "cell_type": "code",
      "source": [
        "#generating the confusion matrix\n",
        "cm = confusion_matrix(y_true = y_test, y_pred = y_predict)\n",
        "\n",
        "fig, ax = plt.subplots(figsize=(6, 6))\n",
        "ax.matshow(cm, cmap=plt.cm.Blues, alpha=0.3)\n",
        "\n",
        "for i in range(cm.shape[0]):\n",
        "    for j in range(cm.shape[1]):\n",
        "        ax.text(x=j, y=i, s=cm[i, j], va='center', ha='center')\n",
        "\n",
        "ax.title.set_text('CNN\\n')\n",
        "plt.xlabel('Predicted label')\n",
        "plt.ylabel('True label')\n",
        "\n",
        "plt.tight_layout()\n",
        "plt.savefig(\"ConfusionMatrix.png\", dpi=300, format='png', pad_inches=0.3)\n",
        "plt.show()\n",
        "\n",
        "print(set(y))\n",
        "print(label_encoder.classes_)\n"
      ],
      "metadata": {
        "colab": {
          "base_uri": "https://localhost:8080/",
          "height": 662
        },
        "id": "VoY_B_Hgii9-",
        "outputId": "ec7db87c-b043-4408-fd7a-233568f827cb"
      },
      "execution_count": null,
      "outputs": [
        {
          "output_type": "display_data",
          "data": {
            "text/plain": [
              "<Figure size 600x600 with 1 Axes>"
            ],
            "image/png": "[encoded data removed]"
          },
          "metadata": {}
        },
        {
          "output_type": "stream",
          "name": "stdout",
          "text": [
            "{0, 1, 2, 3, 4}\n",
            "['Damask Rose' 'Echeveria Flower' 'Mirabilis Jalapa' 'Rain Lily'\n",
            " 'Zinnia Elegans']\n"
          ]
        }
      ]
    },
    {
      "cell_type": "code",
      "source": [
        "#precision,recall and f1 score\n",
        "pScore = precision_score(y_true= y_test, y_pred = y_predict, average = 'weighted')\n",
        "print(\"Precision: \", pScore)\n",
        "\n",
        "rScore = recall_score(y_true= y_test, y_pred = y_predict, average = 'weighted')\n",
        "print(\"Recall: \", rScore)\n",
        "\n",
        "fScore = f1_score(y_true= y_test, y_pred = y_predict, average = 'weighted')\n",
        "print(\"F1-score: \", fScore)\n",
        "\n",
        "print(\"\\n\\n\\n\")"
      ],
      "metadata": {
        "colab": {
          "base_uri": "https://localhost:8080/"
        },
        "id": "ZJOhGPSNirLd",
        "outputId": "cfa75b01-449f-4c7a-9097-2f0f6481ebb6"
      },
      "execution_count": null,
      "outputs": [
        {
          "output_type": "stream",
          "name": "stdout",
          "text": [
            "Precision:  1.0\n",
            "Recall:  1.0\n",
            "F1-score:  1.0\n",
            "\n",
            "\n",
            "\n",
            "\n"
          ]
        }
      ]
    },
    {
      "cell_type": "code",
      "source": [
        "# Saves the best model obtained\n",
        "model.save('/content/drive/MyDrive/model 3/m3Best_Model.h5')"
      ],
      "metadata": {
        "colab": {
          "base_uri": "https://localhost:8080/"
        },
        "id": "ghnvyVwjivRi",
        "outputId": "8bc35b1b-43ed-40b3-86b1-c4d302e0db66"
      },
      "execution_count": null,
      "outputs": [
        {
          "output_type": "stream",
          "name": "stderr",
          "text": [
            "WARNING:absl:You are saving your model as an HDF5 file via `model.save()` or `keras.saving.save_model(model)`. This file format is considered legacy. We recommend using instead the native Keras format, e.g. `model.save('my_model.keras')` or `keras.saving.save_model(model, 'my_model.keras')`. \n"
          ]
        }
      ]
    },
    {
      "cell_type": "code",
      "source": [
        "from numpy import save\n",
        "\n",
        "save('/content/drive/MyDrive/model 3/X_train_std.npy', X_train_std)\n",
        "save('/content/drive/MyDrive/model 3/X_test_std.npy', X_test_std)\n",
        "\n",
        "save('/content/drive/MyDrive/model 3/y_train.npy', y_train)\n",
        "save('/content/drive/MyDrive/model 3/y_test.npy', y_test)"
      ],
      "metadata": {
        "id": "FCo5A0l8iyOe"
      },
      "execution_count": null,
      "outputs": []
    }
  ]
}